{
 "cells": [
  {
   "cell_type": "markdown",
   "id": "b7171746-e973-4710-be7c-f8a0d84c9dcd",
   "metadata": {},
   "source": [
    "# Working with genbank files"
   ]
  },
  {
   "cell_type": "code",
   "execution_count": 2,
   "id": "a772ccaf-f331-4640-84fd-de932e0f52d4",
   "metadata": {},
   "outputs": [
    {
     "ename": "ModuleNotFoundError",
     "evalue": "No module named 'Bio'",
     "output_type": "error",
     "traceback": [
      "\u001b[1;31m---------------------------------------------------------------------------\u001b[0m",
      "\u001b[1;31mModuleNotFoundError\u001b[0m                       Traceback (most recent call last)",
      "\u001b[1;32m~\\AppData\\Local\\Temp/ipykernel_9724/3901145959.py\u001b[0m in \u001b[0;36m<module>\u001b[1;34m\u001b[0m\n\u001b[1;32m----> 1\u001b[1;33m \u001b[1;32mfrom\u001b[0m \u001b[0mBio\u001b[0m\u001b[1;33m.\u001b[0m\u001b[0mSeq\u001b[0m \u001b[1;32mimport\u001b[0m \u001b[0mSeq\u001b[0m\u001b[1;33m\u001b[0m\u001b[1;33m\u001b[0m\u001b[0m\n\u001b[0m\u001b[0;32m      2\u001b[0m \u001b[1;32mfrom\u001b[0m \u001b[0mBio\u001b[0m \u001b[1;32mimport\u001b[0m \u001b[0mSeqIO\u001b[0m\u001b[1;33m\u001b[0m\u001b[1;33m\u001b[0m\u001b[0m\n\u001b[0;32m      3\u001b[0m \u001b[1;33m\u001b[0m\u001b[0m\n\u001b[0;32m      4\u001b[0m \u001b[1;32mimport\u001b[0m \u001b[0mmy_functions\u001b[0m \u001b[1;32mas\u001b[0m \u001b[0mfun\u001b[0m\u001b[1;33m\u001b[0m\u001b[1;33m\u001b[0m\u001b[0m\n",
      "\u001b[1;31mModuleNotFoundError\u001b[0m: No module named 'Bio'"
     ]
    }
   ],
   "source": [
    "from Bio.Seq import Seq\n",
    "from Bio import SeqIO\n",
    "\n",
    "import my_functions as fun"
   ]
  },
  {
   "cell_type": "markdown",
   "id": "2a2be96c-6150-4041-b125-50acffa6c9b0",
   "metadata": {},
   "source": [
    "## Import genbank file"
   ]
  },
  {
   "cell_type": "code",
   "execution_count": 2,
   "id": "5b46a561-f62e-4803-a7a6-9a7c7944f930",
   "metadata": {},
   "outputs": [],
   "source": [
    "def load_genbank_file(file_name: str):\n",
    "    '''Load sequencing record from genbank file.'''\n",
    "    \n",
    "    return SeqIO.read(fun.get_file_path(file_name), \"genbank\")"
   ]
  },
  {
   "cell_type": "code",
   "execution_count": 3,
   "id": "6fab8bf0-c968-4dc1-bc32-95761024bd41",
   "metadata": {},
   "outputs": [],
   "source": [
    "# Load sequence from NCBI genbank file\n",
    "record_NCBI = load_genbank_file(\"sequence_NZ_CP0224381.gb\")"
   ]
  },
  {
   "cell_type": "markdown",
   "id": "ebec3338-820e-4f4f-a6fc-1bb8f6dd6c27",
   "metadata": {},
   "source": [
    "## Check some features in record"
   ]
  },
  {
   "cell_type": "code",
   "execution_count": 4,
   "id": "18ccaa74-31d7-4be2-9c60-1ee327f31b2b",
   "metadata": {},
   "outputs": [],
   "source": [
    "def check_first_locus_tags(record, num):\n",
    "    '''Print the first few locus tags of the coding sequence of a given record.'''\n",
    "\n",
    "    for i in range(1, num):\n",
    "        feat = record.features[i]\n",
    "        \n",
    "        if feat.type == \"CDS\":\n",
    "            print(feat.qualifiers[\"locus_tag\"])"
   ]
  },
  {
   "cell_type": "code",
   "execution_count": 5,
   "id": "c3d19dc3-955a-4898-8514-ca5955b117b9",
   "metadata": {},
   "outputs": [],
   "source": [
    "def check_first_features(record, num):\n",
    "    '''Print the first features of the coding sequence of a given record.'''\n",
    "\n",
    "    for i in range(1, num):\n",
    "        feat = record.features[i]\n",
    "        \n",
    "        if feat.type == \"CDS\":\n",
    "            print(feat)"
   ]
  },
  {
   "cell_type": "code",
   "execution_count": 6,
   "id": "4d7b495d-5524-4ac3-90a9-b5532e5e6584",
   "metadata": {},
   "outputs": [
    {
     "name": "stdout",
     "output_type": "stream",
     "text": [
      "['CGZ69_RS00005']\n",
      "['CGZ69_RS00010']\n",
      "['CGZ69_RS00015']\n",
      "['CGZ69_RS00020']\n"
     ]
    }
   ],
   "source": [
    "# Print the first few locus tags of the NCBI sequence\n",
    "check_first_locus_tags(record_NCBI, 10)"
   ]
  },
  {
   "cell_type": "code",
   "execution_count": 7,
   "id": "a7c58a77-e69b-4129-ad97-e6fbaae61b6b",
   "metadata": {},
   "outputs": [],
   "source": [
    "# Print the first few features of the NCBI sequence\n",
    "# check_first_features(record_NCBI, 10)"
   ]
  },
  {
   "cell_type": "code",
   "execution_count": 8,
   "id": "0a828330-2f4d-47bc-8f1a-0a2f7cc3591d",
   "metadata": {},
   "outputs": [],
   "source": [
    "def extract_locus_tag_from_record(record, locus_tag):\n",
    "    '''Check for a specific gene by locus tag and return the feature.'''\n",
    "    \n",
    "    counter = 0\n",
    "    my_feat = ''\n",
    "    \n",
    "    for feat in record.features:\n",
    "        \n",
    "        if feat.type == \"CDS\" and feat.qualifiers[\"locus_tag\"] == [locus_tag]:\n",
    "            counter += 1\n",
    "            my_feat = feat\n",
    "    \n",
    "    if counter == 0:\n",
    "        print(\"No coding sequence with given locus tag.\")\n",
    "        \n",
    "    elif counter > 1: \n",
    "        print(\"Multiple coding sequences with given locus tag.\")\n",
    "    \n",
    "    return my_feat"
   ]
  },
  {
   "cell_type": "code",
   "execution_count": null,
   "id": "452e7dee-0253-4e79-b2fa-9a00ac34abd6",
   "metadata": {},
   "outputs": [],
   "source": []
  }
 ],
 "metadata": {
  "kernelspec": {
   "display_name": "Python 3 (ipykernel)",
   "language": "python",
   "name": "python3"
  },
  "language_info": {
   "codemirror_mode": {
    "name": "ipython",
    "version": 3
   },
   "file_extension": ".py",
   "mimetype": "text/x-python",
   "name": "python",
   "nbconvert_exporter": "python",
   "pygments_lexer": "ipython3",
   "version": "3.9.7"
  }
 },
 "nbformat": 4,
 "nbformat_minor": 5
}
