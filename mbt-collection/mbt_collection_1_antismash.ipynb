{
 "cells": [
  {
   "cell_type": "markdown",
   "id": "044fedf3-f0b1-4d0c-80f9-586679c25e4c",
   "metadata": {},
   "source": [
    "# MBT collection"
   ]
  },
  {
   "cell_type": "markdown",
   "id": "f6a16e10-e4bb-449d-91d4-19bfedb36ec4",
   "metadata": {},
   "source": [
    "### How to run antismash"
   ]
  },
  {
   "cell_type": "markdown",
   "id": "7d70af71-a1c4-4e5d-97fa-f959b060f99e",
   "metadata": {},
   "source": [
    "Options\n",
    "- if not annotated: --genefinding-tool prodigal \n",
    "- run also clusterblast etc.: -cb-general --cb-knownclusters --cb-subclusters --asf --smcog-trees \n",
    "\n",
    "\n",
    "Run one file\n",
    "- for FILE in *; do antismash --genefinding-tool prodigal --cb-general --cb-knownclusters --cb-subclusters --asf --smcog-trees $FILE; done\n",
    "\n",
    "\n",
    "Run entire folder\n",
    "- antismash --genefinding-tool prodigal --cb-general --cb-knownclusters --cb-subclusters --asf --smcog-trees Hm107.contig-sequences gapclosed.fa\n",
    "\n"
   ]
  },
  {
   "cell_type": "markdown",
   "id": "142fa429-203c-4588-9579-c962010b6980",
   "metadata": {},
   "source": [
    "### Old stuff"
   ]
  },
  {
   "cell_type": "code",
   "execution_count": 2,
   "id": "f65d1ad7-e0fd-4f02-b175-4d9ecf76c8b4",
   "metadata": {},
   "outputs": [],
   "source": [
    "# Extract predicted BGC type from some antismash folders. \n",
    "\n",
    "# Collect all antismash output folders in one directory\n",
    "foldername = \"/test\"\n",
    "start_string = \"contig\"\n",
    "\n",
    "# Loop through all antismash folders in the directory\n",
    "subfoldernames = fun.folders_in_directory(fun.dir_folder(foldername))\n",
    "\n",
    "# Store the predicted types of each BGC of each genome in a dictionary\n",
    "\n",
    "data = dict()\n",
    "\n",
    "for subfoldername in subfoldernames:\n",
    "    directory = fun.dir_folder(foldername + '/' + subfoldername)\n",
    "    dict_hits = fun.predicted_bgc_types(directory, start_string)\n",
    "    data[subfoldername] = dict_hits"
   ]
  }
 ],
 "metadata": {
  "kernelspec": {
   "display_name": "Python 3 (ipykernel)",
   "language": "python",
   "name": "python3"
  },
  "language_info": {
   "codemirror_mode": {
    "name": "ipython",
    "version": 3
   },
   "file_extension": ".py",
   "mimetype": "text/x-python",
   "name": "python",
   "nbconvert_exporter": "python",
   "pygments_lexer": "ipython3",
   "version": "3.9.7"
  }
 },
 "nbformat": 4,
 "nbformat_minor": 5
}
