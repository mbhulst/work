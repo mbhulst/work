{
 "cells": [
  {
   "cell_type": "markdown",
   "metadata": {},
   "source": [
    "# Working with genbank files"
   ]
  },
  {
   "cell_type": "code",
   "execution_count": 1,
   "metadata": {},
   "outputs": [],
   "source": [
    "from Bio.Seq import Seq\n",
    "from Bio import SeqIO\n",
    "\n",
    "import my_functions as fun"
   ]
  },
  {
   "cell_type": "markdown",
   "metadata": {},
   "source": [
    "## Import genbank file"
   ]
  },
  {
   "cell_type": "code",
   "execution_count": 2,
   "metadata": {},
   "outputs": [],
   "source": [
    "def load_genbank_file(file_name: str):\n",
    "    '''Load sequencing record from genbank file.'''\n",
    "    \n",
    "    return SeqIO.read(fun.get_file_path(file_name), \"genbank\")"
   ]
  },
  {
   "cell_type": "code",
   "execution_count": 3,
   "metadata": {},
   "outputs": [],
   "source": [
    "# Load sequence from NCBI genbank file\n",
    "record_NCBI = load_genbank_file(\"sequence_NZ_CP0224381.gb\")"
   ]
  },
  {
   "cell_type": "markdown",
   "metadata": {},
   "source": [
    "## Check some features in record"
   ]
  },
  {
   "cell_type": "code",
   "execution_count": 4,
   "metadata": {},
   "outputs": [],
   "source": [
    "def check_first_locus_tags(record, num):\n",
    "    '''Print the first few locus tags of the coding sequence of a given record.'''\n",
    "\n",
    "    for i in range(1, num):\n",
    "        feat = record.features[i]\n",
    "        \n",
    "        if feat.type == \"CDS\":\n",
    "            print(feat.qualifiers[\"locus_tag\"])"
   ]
  },
  {
   "cell_type": "code",
   "execution_count": 5,
   "metadata": {},
   "outputs": [],
   "source": [
    "def check_first_features(record, num):\n",
    "    '''Print the first features of the coding sequence of a given record.'''\n",
    "\n",
    "    for i in range(1, num):\n",
    "        feat = record.features[i]\n",
    "        \n",
    "        if feat.type == \"CDS\":\n",
    "            print(feat)"
   ]
  },
  {
   "cell_type": "code",
   "execution_count": 6,
   "metadata": {},
   "outputs": [
    {
     "name": "stdout",
     "output_type": "stream",
     "text": [
      "['CGZ69_RS00005']\n",
      "['CGZ69_RS00010']\n",
      "['CGZ69_RS00015']\n",
      "['CGZ69_RS00020']\n"
     ]
    }
   ],
   "source": [
    "# Print the first few locus tags of the NCBI sequence\n",
    "check_first_locus_tags(record_NCBI, 10)"
   ]
  },
  {
   "cell_type": "code",
   "execution_count": 7,
   "metadata": {},
   "outputs": [],
   "source": [
    "# Print the first few features of the NCBI sequence\n",
    "# check_first_features(record_NCBI, 10)"
   ]
  },
  {
   "cell_type": "code",
   "execution_count": 8,
   "metadata": {},
   "outputs": [],
   "source": [
    "def extract_locus_tag_from_record(record, locus_tag):\n",
    "    '''Check for a specific gene by locus tag and return the feature.'''\n",
    "    \n",
    "    counter = 0\n",
    "    my_feat = ''\n",
    "    \n",
    "    for feat in record.features:\n",
    "        \n",
    "        if feat.type == \"CDS\" and feat.qualifiers[\"locus_tag\"] == [locus_tag]:\n",
    "            counter += 1\n",
    "            my_feat = feat\n",
    "    \n",
    "    if counter == 0:\n",
    "        print(\"No coding sequence with given locus tag.\")\n",
    "        \n",
    "    elif counter > 1: \n",
    "        print(\"Multiple coding sequences with given locus tag.\")\n",
    "    \n",
    "    return my_feat"
   ]
  },
  {
   "cell_type": "code",
   "execution_count": 9,
   "metadata": {},
   "outputs": [
    {
     "name": "stdout",
     "output_type": "stream",
     "text": [
      "type: CDS\n",
      "location: [627:1047](-)\n",
      "qualifiers:\n",
      "    Key: codon_start, Value: ['1']\n",
      "    Key: inference, Value: ['COORDINATES: ab initio prediction:GeneMarkS-2+']\n",
      "    Key: locus_tag, Value: ['CGZ69_RS00005']\n",
      "    Key: note, Value: ['Derived by automated computational analysis using gene prediction method: GeneMarkS-2+.']\n",
      "    Key: old_locus_tag, Value: ['CGZ69_00005']\n",
      "    Key: product, Value: ['hypothetical protein']\n",
      "    Key: protein_id, Value: ['WP_100105286.1']\n",
      "    Key: transl_table, Value: ['11']\n",
      "    Key: translation, Value: ['MDLISDIAAIRFPLPVPGSVSPPDLYFDACEQAERLRAEEAENLQAASEGLDTDPLLLALQDARARKAAADAEIRRLLAYGREFHGARPYRLESLSEASGMTISGVRTAYGHDEITEVAREVRRDPNRRTAKSPAQQAN']\n",
      "\n"
     ]
    }
   ],
   "source": [
    "# Extract a locus tag from the NCBI sequence and print the corresponding feature\n",
    "my_feat = extract_locus_tag_from_record(record_NCBI, 'CGZ69_RS00005')\n",
    "print(my_feat)"
   ]
  },
  {
   "cell_type": "code",
   "execution_count": 10,
   "metadata": {},
   "outputs": [],
   "source": [
    "def extract_seq_from_record(record, feat):\n",
    "    '''Extract the DNA sequence from a feature. \n",
    "    Note that it already tekes into account the strand information.'''\n",
    "    \n",
    "    return feat.extract(record.seq)"
   ]
  },
  {
   "cell_type": "code",
   "execution_count": 11,
   "metadata": {},
   "outputs": [],
   "source": [
    "# Print the sequence the feature \n",
    "my_seq = extract_seq_from_record(record_NCBI, my_feat)"
   ]
  },
  {
   "cell_type": "markdown",
   "metadata": {},
   "source": [
    "## Add gene names DXR cluster to the NCBI record"
   ]
  },
  {
   "cell_type": "code",
   "execution_count": 12,
   "metadata": {},
   "outputs": [],
   "source": [
    "# Import gene names of DXR cluster from txt file\n",
    "with open(fun.get_file_path(\"DXR_cluster_ANN.txt\"), 'r') as file:\n",
    "    file_extracted = file.read().split(\"\\n\")\n",
    "\n",
    "# Create dictionary of locus tags and gene names\n",
    "dict_DXR_annotation = {}\n",
    "\n",
    "for line in file_extracted:\n",
    "    row = line.split(\"\\t\")\n",
    "    dict_DXR_annotation[row[1]] = row[0]"
   ]
  },
  {
   "cell_type": "code",
   "execution_count": 13,
   "metadata": {},
   "outputs": [],
   "source": [
    "# For each gene in the dictionary, add a qualifier \"gene\" to the corresponding feature in the record\n",
    "for gene in dict_DXR_annotation:\n",
    "\n",
    "    for feat in record_NCBI.features:\n",
    "        \n",
    "        if feat.type == \"CDS\" and feat.qualifiers[\"locus_tag\"] == [gene]:\n",
    "            feat.qualifiers[\"gene\"] = dict_DXR_annotation[gene]"
   ]
  },
  {
   "cell_type": "markdown",
   "metadata": {},
   "source": [
    "## Check one gene"
   ]
  },
  {
   "cell_type": "code",
   "execution_count": 14,
   "metadata": {},
   "outputs": [],
   "source": [
    "def extract_gene_name_from_record(record, gene_name):\n",
    "    '''Check for a specific gene by gene name and return the feature.'''\n",
    "\n",
    "    counter = 0\n",
    "    my_feat = ''    \n",
    "    \n",
    "    for feat in record.features:\n",
    "        \n",
    "        if \"gene\" in feat.qualifiers and feat.type == \"CDS\" and feat.qualifiers[\"gene\"] == gene_name:\n",
    "            counter +=1\n",
    "            my_feat = feat\n",
    "    \n",
    "    if counter == 0:\n",
    "        print(\"No feature with this gene name.\")\n",
    "    \n",
    "    elif counter > 1:\n",
    "        print(\"Multiple features with this gene name.\")\n",
    "    \n",
    "    return my_feat"
   ]
  },
  {
   "cell_type": "code",
   "execution_count": 15,
   "metadata": {},
   "outputs": [
    {
     "name": "stdout",
     "output_type": "stream",
     "text": [
      "type: CDS\n",
      "location: [5301727:5302939](+)\n",
      "qualifiers:\n",
      "    Key: codon_start, Value: ['1']\n",
      "    Key: gene, Value: doxA\n",
      "    Key: inference, Value: ['COORDINATES: protein motif:HMM:NF012296.1']\n",
      "    Key: locus_tag, Value: ['CGZ69_RS24600']\n",
      "    Key: note, Value: ['Derived by automated computational analysis using gene prediction method: Protein Homology.']\n",
      "    Key: old_locus_tag, Value: ['CGZ69_24370']\n",
      "    Key: product, Value: ['cytochrome P450']\n",
      "    Key: protein_id, Value: ['WP_159026842.1']\n",
      "    Key: transl_table, Value: ['11']\n",
      "    Key: translation, Value: ['MQRKPEVHDAFREAGPVVEVNAPAGGPAWVITDDALAREVLADPRFVKDPDLAPAAWRGVDDGLDIPVPELRPFTLIAVDGEAHRRLRRIHAPAFNPRRLAERTDRIAAIAGRLLTELADASGRSGKPAELIGGFAYHFPLLVICELLGVPVTDPAMAREAVSVLKALGLGGPQSGGGDGTDPAGGVPDTSALESLLLEAVHSARRNDTPTMTRVLYERAQAEFGSVSDDQLVYMITGLIFAGHDTTGSFLGFLLAEVLAGRLAADADEDAVSRFVEEALRYHPPVPYTLWRFAATEVTIGGVRLPRGAPVLVDIEGTNTDGRHHDAPHAFHPDRPSWRRLTFGDGPHYCIGEQLAQLESRTMIGVLRSRFPEARLAVPYDELRWCRKGAQTARLTELPVWLR']\n",
      "\n"
     ]
    }
   ],
   "source": [
    "# Extract a gene name from the NCBI sequence and print the corresponding feature\n",
    "my_feat = extract_gene_name_from_record(record_NCBI, \"doxA\")\n",
    "print(my_feat)"
   ]
  },
  {
   "cell_type": "code",
   "execution_count": 16,
   "metadata": {},
   "outputs": [
    {
     "name": "stdout",
     "output_type": "stream",
     "text": [
      "ATGCAGCGCAAGCCCGAGGTGCACGACGCCTTCCGGGAGGCGGGCCCGGTCGTCGAGGTGAACGCCCCCGCGGGCGGACCCGCCTGGGTCATCACCGATGACGCCCTCGCCCGCGAGGTGCTGGCCGATCCCCGGTTCGTGAAGGACCCCGACCTCGCCCCCGCCGCCTGGCGGGGGGTGGACGACGGTCTCGACATCCCCGTTCCGGAGCTGCGTCCGTTCACGCTCATCGCCGTGGACGGCGAGGCCCACCGGCGCCTGCGCCGCATCCACGCACCTGCGTTCAACCCGCGCCGGCTGGCCGAGCGGACGGATCGCATCGCCGCGATCGCCGGCCGGCTGCTCACCGAACTCGCCGACGCCTCCGGCCGGTCGGGCAAACCGGCCGAGCTGATCGGCGGCTTCGCGTACCACTTCCCGCTGTTGGTCATCTGCGAGCTGCTCGGTGTGCCGGTCACCGATCCGGCGATGGCCCGCGAGGCCGTCAGCGTTCTCAAGGCACTCGGCCTCGGCGGCCCGCAGAGCGGCGGGGGTGACGGCACGGACCCTGCCGGGGGCGTGCCGGACACCTCGGCCCTGGAGAGCCTGCTCCTCGAAGCCGTGCACTCAGCCCGGCGGAACGACACCCCGACCATGACCCGCGTGCTGTACGAGCGCGCGCAGGCCGAGTTCGGCTCGGTCTCCGACGACCAGCTCGTCTACATGATCACCGGGCTCATCTTCGCCGGCCACGACACCACCGGCTCCTTCCTGGGCTTCCTGCTCGCGGAGGTCCTGGCGGGCCGCCTCGCGGCGGATGCCGACGAGGACGCCGTCTCCCGGTTCGTGGAGGAGGCGCTGCGCTACCACCCGCCGGTGCCCTACACGTTGTGGAGGTTCGCTGCCACGGAGGTGACCATCGGCGGCGTCCGGCTGCCCCGCGGAGCGCCGGTGCTGGTGGACATCGAGGGCACCAACACCGACGGCCGCCATCACGACGCCCCGCACGCCTTCCACCCGGACCGTCCCTCGTGGCGGCGGCTCACCTTCGGCGACGGGCCGCACTACTGCATCGGGGAGCAGCTCGCCCAGCTGGAGTCGCGCACGATGATCGGCGTACTGCGCAGCAGGTTCCCCGAGGCCCGACTGGCCGTGCCGTACGACGAGTTGCGGTGGTGCCGGAAGGGGGCCCAGACGGCGCGGCTCACCGAACTGCCCGTCTGGCTGCGCTGA\n"
     ]
    }
   ],
   "source": [
    "# Print the sequence the feature \n",
    "my_seq = extract_seq_from_record(record_NCBI, my_feat)\n",
    "print(my_seq)"
   ]
  },
  {
   "cell_type": "markdown",
   "metadata": {},
   "source": [
    "## Check and edit sequence drrD"
   ]
  },
  {
   "cell_type": "code",
   "execution_count": 17,
   "metadata": {},
   "outputs": [],
   "source": [
    "# Extract drrD from the NCBI sequence and extract the sequence\n",
    "my_feat_drrD = extract_gene_name_from_record(record_NCBI, \"drrD\")\n",
    "my_seq_drrD = extract_seq_from_record(record_NCBI, my_feat_drrD)"
   ]
  },
  {
   "cell_type": "code",
   "execution_count": 18,
   "metadata": {},
   "outputs": [],
   "source": [
    "# The start codon should be 72 nt earlier and the stop codon is 382 nt further on\n",
    "my_feat_drrD_start = my_feat_drrD.location.start\n",
    "my_feat_drrD_end = my_feat_drrD.location.end\n",
    "my_seq_drrD_ed = record_NCBI.seq[my_feat_drrD_start-382:my_feat_drrD_end+72].reverse_complement()\n",
    "\n",
    "# In the sequencing data of G001 nucleotide #1068 (original NCBI coordinates) is missing \n",
    "# I expect that this is a mistake in the NCBI sequence and not a mutation in G001\n",
    "num = 1068+72\n",
    "my_seq_drrD_ed = my_seq_drrD_ed[:num-1] + my_seq_drrD_ed[num:]"
   ]
  },
  {
   "cell_type": "code",
   "execution_count": 19,
   "metadata": {},
   "outputs": [],
   "source": [
    "# Print nucleotide sequence of drrD from NCBI sequence and the edited version\n",
    "# print('NCBI     :',my_seq_drrD, '\\n')\n",
    "# print('NCBI edit:',my_seq_drrD_ed)"
   ]
  },
  {
   "cell_type": "code",
   "execution_count": 20,
   "metadata": {},
   "outputs": [],
   "source": [
    "# Print amino acid sequence of drrD from NCBI sequence and the edited version\n",
    "# print('NCBI     :', my_seq_drrD.translate(table=11),'\\n')\n",
    "# print('NCBI edit:', my_seq_drrD_ed.translate(table=11))"
   ]
  },
  {
   "cell_type": "markdown",
   "metadata": {},
   "source": [
    "## Check and edit sequence drrC"
   ]
  },
  {
   "cell_type": "code",
   "execution_count": 21,
   "metadata": {},
   "outputs": [],
   "source": [
    "# Extract drrD from the NCBI sequence and extract the sequence\n",
    "my_feat_drrC = extract_gene_name_from_record(record_NCBI, \"drrC\")\n",
    "my_seq_drrC = extract_seq_from_record(record_NCBI, my_feat_drrC)"
   ]
  },
  {
   "cell_type": "code",
   "execution_count": 22,
   "metadata": {},
   "outputs": [],
   "source": [
    "# G001 has two mutations 1631C>T and 1670C>T\n",
    "num = 1631\n",
    "my_seq_drrC_G001 = my_seq_drrC[:num-1] + \"T\"+ my_seq_drrC[num:]\n",
    "num = 1670\n",
    "my_seq_drrC_G001 = my_seq_drrC[:num-1] + \"T\"+ my_seq_drrC[num:]"
   ]
  },
  {
   "cell_type": "code",
   "execution_count": 23,
   "metadata": {},
   "outputs": [],
   "source": [
    "# Print nucleotide sequence of drrC from NCBI sequence and the edited version\n",
    "# print('WT:  ',my_seq_drrC, '\\n')\n",
    "# print('G001:',my_seq_drrC_G001)"
   ]
  },
  {
   "cell_type": "code",
   "execution_count": 24,
   "metadata": {},
   "outputs": [],
   "source": [
    "# Print amino acid sequence of drrC from NCBI sequence and the edited version\n",
    "# print('WT:  ', my_seq_drrC.translate(table=11),'\\n')\n",
    "# print('G001:', my_seq_drrC_G001.translate(table=11))"
   ]
  },
  {
   "cell_type": "markdown",
   "metadata": {},
   "source": [
    "## Look into annotation Victor"
   ]
  },
  {
   "cell_type": "code",
   "execution_count": 25,
   "metadata": {},
   "outputs": [
    {
     "name": "stdout",
     "output_type": "stream",
     "text": [
      "['wt_00005']\n",
      "['wt_00010']\n"
     ]
    }
   ],
   "source": [
    "# Load sequence from Victor's genbank file and print the first few features\n",
    "record_Victor = load_genbank_file(\"Streptomyces_peucetius_caesiusATCC-27952_WT_O.gbk\")\n",
    "check_first_locus_tags(record_Victor, 5)"
   ]
  },
  {
   "cell_type": "code",
   "execution_count": 26,
   "metadata": {},
   "outputs": [
    {
     "name": "stdout",
     "output_type": "stream",
     "text": [
      "type: CDS\n",
      "location: [627:1047](-)\n",
      "qualifiers:\n",
      "    Key: codon_start, Value: ['1']\n",
      "    Key: inference, Value: ['ab initio prediction:Prodigal:2.6']\n",
      "    Key: locus_tag, Value: ['wt_00005']\n",
      "    Key: product, Value: ['hypothetical protein']\n",
      "    Key: protein_id, Value: ['IBL-MBT:caesiusATCC-27952_00005']\n",
      "    Key: transl_table, Value: ['11']\n",
      "    Key: translation, Value: ['MDLISDIAAIRFPLPVPGSVSPPDLYFDACEQAERLRAEEAENLQAASEGLDTDPLLLALQDARARKAAADAEIRRLLAYGREFHGARPYRLESLSEASGMTISGVRTAYGHDEITEVAREVRRDPNRRTAKSPAQQAN']\n",
      "\n",
      "type: CDS\n",
      "location: [1281:1740](+)\n",
      "qualifiers:\n",
      "    Key: EC_number, Value: ['3.6.1.61']\n",
      "    Key: codon_start, Value: ['1']\n",
      "    Key: gene, Value: ['ndx1_1']\n",
      "    Key: inference, Value: ['ab initio prediction:Prodigal:2.6', 'similar to AA sequence:UniProtKB:Q75UV1']\n",
      "    Key: locus_tag, Value: ['wt_00010']\n",
      "    Key: product, Value: ['Diadenosine hexaphosphate hydrolase']\n",
      "    Key: protein_id, Value: ['IBL-MBT:caesiusATCC-27952_00010']\n",
      "    Key: transl_table, Value: ['11']\n",
      "    Key: translation, Value: ['MSDYIGWLRGHVGTAPIQLNFAAACVVVDDRVLLQRRSDDGAWGFPGGAIELGESAEEAAVREAAEETGLQVRVDGLLGVYTKYRHTYPNGDAAQPFTVFFYCSAVGRRSHAVDSETLELRYFPFTEVPQMTNLQHQDALSDLRLGRRGVFR']\n",
      "\n"
     ]
    }
   ],
   "source": [
    "# Print the first few features of the NCBI features\n",
    "check_first_features(record_Victor, 5)"
   ]
  },
  {
   "cell_type": "markdown",
   "metadata": {},
   "source": [
    "## Check for rRNA"
   ]
  },
  {
   "cell_type": "code",
   "execution_count": 27,
   "metadata": {},
   "outputs": [],
   "source": [
    "def check_if_rRNA(record, RNA_seq):\n",
    "    '''This function checks if a sequence has a match with the rRNA of S. peucetius. It returns True of False.\n",
    "    (Note that it only checks if the complete sequence can be matched with rRNA of S. peucetius).'''\n",
    "    \n",
    "    # initialize the sequence check as False\n",
    "    is_seq_rRNA = False\n",
    "    \n",
    "    # check for each rRNA sequence in the genome sequence of S. peucetius if the given sequence can be matched\n",
    "    for feat in record.features:\n",
    "        if feat.type == \"rRNA\":\n",
    "            sequence = feat.extract(record.seq)\n",
    "            if RNA_seq in sequence or RNA_seq.reverse_complement() in sequence:\n",
    "                is_seq_rRNA = True  # if the sequence has a match, update the sequence check to True\n",
    "    \n",
    "    return is_seq_rRNA"
   ]
  },
  {
   "cell_type": "code",
   "execution_count": 28,
   "metadata": {},
   "outputs": [],
   "source": [
    "def check_list_of_seqs(record, file_name):\n",
    "    '''This function checks for a list of files with a list of sequences which sequences have a match with the rRNA of S. peucetius. The function prints the sequences \n",
    "    that cannot be identified as rRNA. (Note that it only checks if the complete sequence can be matched with rRNA of S. peucetius).'''\n",
    "    \n",
    "    # obtain the list of overrepresented sequences in current sample\n",
    "    with open(fun.get_file_path(file_name), 'r') as data:\n",
    "        list_RNA_seq = data.read().splitlines()\n",
    "    \n",
    "    # initialize dictionary to store if the sequence is rRNA\n",
    "    dict_check_rRNA = dict()\n",
    "    \n",
    "    # check for each sequence if it alligns to the rRNA of S. peucetius\n",
    "    for RNA_seq in list_RNA_seq:\n",
    "        dict_check_rRNA[RNA_seq] = check_if_rRNA(record, Seq(RNA_seq))\n",
    "         \n",
    "    # print the sequences that are not rRNA\n",
    "    for seq, value in dict_check_rRNA.items():\n",
    "        if value == False:\n",
    "            print(seq)\n",
    "    "
   ]
  },
  {
   "cell_type": "code",
   "execution_count": 29,
   "metadata": {},
   "outputs": [],
   "source": [
    "list_of_files = ['seqs_WT_1d_S1_L001.txt', \n",
    "                 'seqs_WT_1d_S1_L002.txt', \n",
    "                 'seqs_WT_2d_S11_L001.txt', \n",
    "                 'seqs_WT_2d_S11_L002.txt', \n",
    "                 'seqs_WT_3d_S12_L001.txt', \n",
    "                 'seqs_WT_3d_S12_L002.txt', \n",
    "                 'seqs_WT_4d_S13_L001.txt', \n",
    "                 'seqs_WT_4d_S13_L002.txt', \n",
    "                 'seqs_WT_5d_S14_L001.txt', \n",
    "                 'seqs_WT_5d_S14_L002.txt', \n",
    "                 'seqs_WT_6d_S15_L001.txt', \n",
    "                 'seqs_WT_6d_S15_L002.txt', ]\n",
    "# NOTE: GTTACATTGTCGGCGCGGAATCACTTGACCAGTGAGCTATTACGCACTCTT is from CGZ69_05395 (missing first two nucleotides)\n",
    "# NOTE: CTATGGTTGAGACAATCGAGAAGTCGTTACGCCATTCGTGCAGGTCGGAAC is also from CGZ69_05395 (missing last two nucleotides)"
   ]
  },
  {
   "cell_type": "code",
   "execution_count": 30,
   "metadata": {},
   "outputs": [
    {
     "name": "stdout",
     "output_type": "stream",
     "text": [
      "seqs_WT_1d_S1_L001.txt\n",
      "GTTACATTGTCGGCGCGGAATCACTTGACCAGTGAGCTATTACGCACTCTT\n",
      "seqs_WT_1d_S1_L002.txt\n",
      "GTTACATTGTCGGCGCGGAATCACTTGACCAGTGAGCTATTACGCACTCTT\n",
      "seqs_WT_2d_S11_L001.txt\n",
      "seqs_WT_2d_S11_L002.txt\n",
      "seqs_WT_3d_S12_L001.txt\n",
      "seqs_WT_3d_S12_L002.txt\n",
      "seqs_WT_4d_S13_L001.txt\n",
      "seqs_WT_4d_S13_L002.txt\n",
      "seqs_WT_5d_S14_L001.txt\n",
      "seqs_WT_5d_S14_L002.txt\n",
      "seqs_WT_6d_S15_L001.txt\n",
      "CTATGGTTGAGACAATCGAGAAGTCGTTACGCCATTCGTGCAGGTCGGAAC\n",
      "seqs_WT_6d_S15_L002.txt\n",
      "CTATGGTTGAGACAATCGAGAAGTCGTTACGCCATTCGTGCAGGTCGGAAC\n",
      "GTTACATTGTCGGCGCGGAATCACTTGACCAGTGAGCTATTACGCACTCTT\n"
     ]
    }
   ],
   "source": [
    "for file in list_of_files:\n",
    "    print(file)\n",
    "    check_list_of_seqs(record_NCBI, file)"
   ]
  }
 ],
 "metadata": {
  "kernelspec": {
   "display_name": "Python 3 (ipykernel)",
   "language": "python",
   "name": "python3"
  },
  "language_info": {
   "codemirror_mode": {
    "name": "ipython",
    "version": 3
   },
   "file_extension": ".py",
   "mimetype": "text/x-python",
   "name": "python",
   "nbconvert_exporter": "python",
   "pygments_lexer": "ipython3",
   "version": "3.9.7"
  }
 },
 "nbformat": 4,
 "nbformat_minor": 4
}
