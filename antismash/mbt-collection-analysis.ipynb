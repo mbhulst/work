{
 "cells": [
  {
   "cell_type": "markdown",
   "id": "044fedf3-f0b1-4d0c-80f9-586679c25e4c",
   "metadata": {},
   "source": [
    "# MBT collection"
   ]
  },
  {
   "cell_type": "markdown",
   "id": "f6a16e10-e4bb-449d-91d4-19bfedb36ec4",
   "metadata": {},
   "source": [
    "### How to run antismash"
   ]
  },
  {
   "cell_type": "markdown",
   "id": "7d70af71-a1c4-4e5d-97fa-f959b060f99e",
   "metadata": {},
   "source": [
    "Options\n",
    "- if not annotated: --genefinding-tool prodigal \n",
    "- run also clusterblast etc.: -cb-general --cb-knownclusters --cb-subclusters --asf --smcog-trees \n",
    "\n",
    "\n",
    "Run one file\n",
    "- for FILE in *; do antismash --genefinding-tool prodigal --cb-general --cb-knownclusters --cb-subclusters --asf --smcog-trees $FILE; done\n",
    "\n",
    "\n",
    "Run entire folder\n",
    "- antismash --genefinding-tool prodigal --cb-general --cb-knownclusters --cb-subclusters --asf --smcog-trees Hm107.contig-sequences gapclosed.fa\n",
    "\n"
   ]
  },
  {
   "cell_type": "markdown",
   "id": "b97aa7da-3a39-48a5-b39d-36bc7514c1b8",
   "metadata": {},
   "source": [
    "### Extract BGC types"
   ]
  },
  {
   "cell_type": "code",
   "execution_count": 1,
   "id": "d92cd1fe-dff0-4d34-80c5-35a3d664a3bb",
   "metadata": {},
   "outputs": [],
   "source": [
    "import os\n",
    "\n",
    "from glob import glob\n",
    "\n",
    "from Bio.Seq import Seq\n",
    "from Bio import SeqIO"
   ]
  },
  {
   "cell_type": "code",
   "execution_count": 2,
   "id": "3df2f93f-9851-4ded-b5d3-0083c4bbb75c",
   "metadata": {},
   "outputs": [],
   "source": [
    "def dir_folder(foldername):\n",
    "    \"\"\"Get the path to a folder in current directory.\"\"\"\n",
    "\n",
    "    cwd = os.getcwd()\n",
    "    directory = cwd + '/' + foldername\n",
    "    \n",
    "    return directory\n"
   ]
  },
  {
   "cell_type": "code",
   "execution_count": 3,
   "id": "45cfdebb-b732-42dd-baa1-12967b59478a",
   "metadata": {},
   "outputs": [],
   "source": [
    "def folders_in_directory(directory):\n",
    "    \"\"\"Get a list of all the folders in the given directory\"\"\"\n",
    "    \n",
    "    subdirs_raw = glob(directory + '/*/')\n",
    "    \n",
    "    subfoldernames = []\n",
    "    \n",
    "    for subdir_raw in subdirs_raw:\n",
    "        subdir = subdir_raw[:-1]  # remove trailing backslash\n",
    "        subfoldername = os.path.basename(subdir)   # extract subfolder name\n",
    "        subfoldernames.append(subfoldername)   # collect subfolder names in list\n",
    "    \n",
    "    return subfoldernames\n"
   ]
  },
  {
   "cell_type": "code",
   "execution_count": 4,
   "id": "c05a2a16-7614-4c6a-a668-e77e64be6c58",
   "metadata": {},
   "outputs": [],
   "source": [
    "def predicted_bgc_types(directory, start_string):\n",
    "    \"\"\"In a given folder, go through all antismash generated genbank sequences to collect the predicted BGC classes. \n",
    "    Select the right files based on a start_string.\"\"\"\n",
    "\n",
    "    filenames = files_in_directory(directory, start_string)\n",
    "\n",
    "    dict_hits = dict()\n",
    "\n",
    "    for filename in filenames:\n",
    "        record = open_genbank_file(directory, filename)\n",
    "        bgc_type = extract_bgc_type(record)\n",
    "        dict_hits[filename] = bgc_type\n",
    "    \n",
    "    return dict_hits\n"
   ]
  },
  {
   "cell_type": "code",
   "execution_count": 12,
   "id": "14c3f8c3-56d2-4ec6-84df-6eb49ccb0892",
   "metadata": {},
   "outputs": [],
   "source": [
    "def files_in_directory(directory, start_string):\n",
    "    \"\"\"Get a list of all the genbank filenames in a given directory that start with a given string.\"\"\"\n",
    "\n",
    "    filenames = []\n",
    "    \n",
    "    for filename in os.listdir(directory):\n",
    "        if filename.startswith(start_string) and filename.endswith(\".gbk\"): \n",
    "            filenames.append(filename)\n",
    "    \n",
    "    return filenames\n"
   ]
  },
  {
   "cell_type": "code",
   "execution_count": 6,
   "id": "727bcdf3-66d8-4f05-98c4-0ac97d9d128f",
   "metadata": {},
   "outputs": [],
   "source": [
    "def open_genbank_file(directory, filename):\n",
    "    \"\"\"This function opens a genbank file from a folderpath and a filename\"\"\"\n",
    "    \n",
    "    filepath = directory + '/' + filename\n",
    "    record = SeqIO.read(filepath, \"genbank\")\n",
    "    \n",
    "    return record\n"
   ]
  },
  {
   "cell_type": "code",
   "execution_count": 7,
   "id": "33b45951-2ee9-47a2-9283-68506db6e285",
   "metadata": {},
   "outputs": [],
   "source": [
    "def extract_bgc_type(record):\n",
    "    \"\"\"This function returns the predict bgc type for a given genbank file location.\"\"\"\n",
    "\n",
    "    # extract bgc type from gbk sequence\n",
    "    for feat in record.features:\n",
    "        if feat.type == \"cand_cluster\":\n",
    "            bgc_type = feat.qualifiers[\"product\"]\n",
    "            break\n",
    "\n",
    "    return bgc_type"
   ]
  },
  {
   "cell_type": "code",
   "execution_count": 13,
   "id": "a28bb5fd-a32a-4555-a4fb-a2fb510e4047",
   "metadata": {},
   "outputs": [],
   "source": [
    "# Extract predicted BGC type from some antismash folders. \n",
    "\n",
    "# Collect all antismash output folders in one directory\n",
    "foldername = \"/test\"\n",
    "start_string = \"contig\"\n",
    "\n",
    "# Loop through all antismash folders in the directory\n",
    "subfoldernames = folders_in_directory(dir_folder(foldername))\n",
    "\n",
    "# Store the predicted types of each BGC of each genome in a dictionary\n",
    "\n",
    "data = dict()\n",
    "\n",
    "for subfoldername in subfoldernames:\n",
    "    directory = dir_folder(foldername + '/' + subfoldername)\n",
    "    dict_hits = predicted_bgc_types(directory, start_string)\n",
    "    data[subfoldername] = dict_hits"
   ]
  },
  {
   "cell_type": "code",
   "execution_count": 10,
   "id": "dc7e5a82-65fc-447f-bed1-a864dd3cfef5",
   "metadata": {},
   "outputs": [
    {
     "data": {
      "text/plain": [
       "{'Hm107.contig-sequences-gapclosed': {'contig_00092.region001.gbk': ['lanthipeptide-class-ii'],\n",
       "  'contig_00003.region001.gbk': ['T3PKS'],\n",
       "  'contig_00066.region001.gbk': ['butyrolactone'],\n",
       "  'contig_00020.region001.gbk': ['T2PKS', 'T1PKS', 'PKS-like'],\n",
       "  'contig_00142.region001.gbk': ['ectoine'],\n",
       "  'contig_00198.region001.gbk': ['NRPS-like'],\n",
       "  'contig_00026.region001.gbk': ['PKS-like', 'butyrolactone'],\n",
       "  'contig_00138.region001.gbk': ['NRPS'],\n",
       "  'contig_00417.region001.gbk': ['terpene'],\n",
       "  'contig_00090.region001.gbk': ['terpene', 'NAPAA'],\n",
       "  'contig_00083.region001.gbk': ['lanthipeptide-class-i'],\n",
       "  'contig_00038.region001.gbk': ['NRPS', 'terpene'],\n",
       "  'contig_00005.region001.gbk': ['NRPS'],\n",
       "  'contig_00029.region001.gbk': ['T3PKS'],\n",
       "  'contig_00371.region001.gbk': ['lanthipeptide-class-iii'],\n",
       "  'contig_00170.region001.gbk': ['melanin'],\n",
       "  'contig_00207.region001.gbk': ['terpene'],\n",
       "  'contig_00112.region001.gbk': ['NRPS'],\n",
       "  'contig_00023.region001.gbk': ['siderophore'],\n",
       "  'contig_00123.region001.gbk': ['siderophore'],\n",
       "  'contig_00006.region001.gbk': ['terpene'],\n",
       "  'contig_00344.region001.gbk': ['RiPP-like'],\n",
       "  'contig_00019.region001.gbk': ['ectoine', 'butyrolactone'],\n",
       "  'contig_00183.region001.gbk': ['T1PKS'],\n",
       "  'contig_00137.region001.gbk': ['NRPS', 'NRPS-like', 'T1PKS'],\n",
       "  'contig_00219.region001.gbk': ['terpene'],\n",
       "  'contig_00276.region001.gbk': ['NRPS'],\n",
       "  'contig_00049.region001.gbk': ['NRPS'],\n",
       "  'contig_00016.region001.gbk': ['NRPS'],\n",
       "  'contig_00175.region001.gbk': ['NRPS-like'],\n",
       "  'contig_00051.region001.gbk': ['RRE-containing'],\n",
       "  'contig_00258.region001.gbk': ['RiPP-like']},\n",
       " 'Hm77.contig-sequences-gapclosed': {'contig_00160.region001.gbk': ['butyrolactone'],\n",
       "  'contig_00079.region001.gbk': ['siderophore'],\n",
       "  'contig_00244.region001.gbk': ['T1PKS'],\n",
       "  'contig_00066.region001.gbk': ['T1PKS'],\n",
       "  'contig_00033.region001.gbk': ['NRPS'],\n",
       "  'contig_00075.region001.gbk': ['T2PKS', 'terpene'],\n",
       "  'contig_00031.region001.gbk': ['T1PKS'],\n",
       "  'contig_00026.region001.gbk': ['terpene'],\n",
       "  'contig_00102.region001.gbk': ['PKS-like'],\n",
       "  'contig_00073.region001.gbk': ['NRPS', 'butyrolactone'],\n",
       "  'contig_00037.region001.gbk': ['terpene'],\n",
       "  'contig_00086.region001.gbk': ['LAP', 'NRPS-like', 'PKS-like'],\n",
       "  'contig_00002.region001.gbk': ['terpene'],\n",
       "  'contig_00007.region001.gbk': ['NRPS'],\n",
       "  'contig_00008.region001.gbk': ['NRPS', 'T1PKS'],\n",
       "  'contig_00011.region001.gbk': ['RiPP-like'],\n",
       "  'contig_00126.region001.gbk': ['lanthipeptide-class-iii',\n",
       "   'lanthipeptide-class-ii'],\n",
       "  'contig_00055.region001.gbk': ['melanin'],\n",
       "  'contig_00143.region001.gbk': ['terpene'],\n",
       "  'contig_00018.region001.gbk': ['NRPS'],\n",
       "  'contig_00131.region001.gbk': ['T2PKS', 'PKS-like', 'T1PKS'],\n",
       "  'contig_00112.region001.gbk': ['ectoine'],\n",
       "  'contig_00023.region001.gbk': ['T2PKS'],\n",
       "  'contig_00022.region001.gbk': ['terpene'],\n",
       "  'contig_00071.region001.gbk': ['NRPS', 'T1PKS'],\n",
       "  'contig_00193.region001.gbk': ['NRPS']}}"
      ]
     },
     "execution_count": 10,
     "metadata": {},
     "output_type": "execute_result"
    }
   ],
   "source": [
    "data"
   ]
  },
  {
   "cell_type": "markdown",
   "id": "9b7eca69-5e04-4101-86ff-a7f7804347fd",
   "metadata": {},
   "source": [
    "### Extract most similar known cluster for T2PKS clusters"
   ]
  },
  {
   "cell_type": "code",
   "execution_count": null,
   "id": "418426c9-cc3b-4261-9543-ed69c3491ccd",
   "metadata": {},
   "outputs": [],
   "source": [
    "# get path to file\n",
    "cwd = os.getcwd()\n",
    "folder = cwd + '/Hm77.contig-sequences-gapclosed/knownclusterblast'\n",
    "filename = 'contig_00002_c1.txt'\n",
    "filepath = folder + '/' + filename"
   ]
  },
  {
   "cell_type": "code",
   "execution_count": null,
   "id": "06acd244-b8b0-468e-a0d4-42174530ff35",
   "metadata": {},
   "outputs": [],
   "source": [
    "# open file as list\n",
    "\n",
    "count = 0\n",
    "\n",
    "with open(filepath, 'r') as f:\n",
    "    knownclusterblast = f.readlines()"
   ]
  },
  {
   "cell_type": "code",
   "execution_count": null,
   "id": "71afe2f1-7bf1-4336-b639-7e4c212d52b6",
   "metadata": {},
   "outputs": [],
   "source": [
    "# extract best known hit\n",
    "start = knownclusterblast.index('Details:\\n')\n",
    "hit_bgc_num = \"\"\n",
    "hit_bgc_name = \"\"\n",
    "hit_bgc_type = \"\"\n",
    "\n",
    "for line in range(start, start + 10):\n",
    "    if knownclusterblast[line].startswith('1.'):\n",
    "        hit_bgc_num = knownclusterblast[line][3:].strip()\n",
    "    if knownclusterblast[line].startswith('Source'):\n",
    "        hit_bgc_name = knownclusterblast[line][8:].strip()\n",
    "    if knownclusterblast[line].startswith('Type'):\n",
    "        hit_bgc_type = knownclusterblast[line][6:].strip()\n",
    "        break\n",
    "\n",
    "dict_hits = dict()\n",
    "\n",
    "dict_hits[filename] = [hit_bgc_num, hit_bgc_name, hit_bgc_type]"
   ]
  },
  {
   "cell_type": "code",
   "execution_count": null,
   "id": "50a129da-29d4-4a12-8c6d-27757f42f6d2",
   "metadata": {},
   "outputs": [],
   "source": [
    "print(dict_hits)"
   ]
  },
  {
   "cell_type": "code",
   "execution_count": null,
   "id": "0567c700-0fd2-45fc-bf58-34a72c4ca281",
   "metadata": {},
   "outputs": [],
   "source": [
    "print(hit_bgc_num[0:])"
   ]
  },
  {
   "cell_type": "code",
   "execution_count": null,
   "id": "5e592360-f07f-4bea-8a5d-199c7ff5663a",
   "metadata": {},
   "outputs": [],
   "source": [
    "knownclusterblast"
   ]
  },
  {
   "cell_type": "code",
   "execution_count": null,
   "id": "d3ee9ac2-4337-4768-a3c6-c2a78d97cc56",
   "metadata": {},
   "outputs": [],
   "source": []
  }
 ],
 "metadata": {
  "kernelspec": {
   "display_name": "Python 3 (ipykernel)",
   "language": "python",
   "name": "python3"
  },
  "language_info": {
   "codemirror_mode": {
    "name": "ipython",
    "version": 3
   },
   "file_extension": ".py",
   "mimetype": "text/x-python",
   "name": "python",
   "nbconvert_exporter": "python",
   "pygments_lexer": "ipython3",
   "version": "3.9.7"
  }
 },
 "nbformat": 4,
 "nbformat_minor": 5
}
