{
 "cells": [
  {
   "cell_type": "markdown",
   "metadata": {},
   "source": [
    "# Select useful data and output in graphs"
   ]
  },
  {
   "cell_type": "code",
   "execution_count": 1,
   "metadata": {},
   "outputs": [],
   "source": [
    "import pandas as pd\n",
    "import glob"
   ]
  },
  {
   "cell_type": "markdown",
   "metadata": {},
   "source": [
    "## Automatically select input files from current folder\n",
    "\n",
    "NOTE: wells should be formatted like this: A01 (including the zero)"
   ]
  },
  {
   "cell_type": "code",
   "execution_count": 2,
   "metadata": {},
   "outputs": [
    {
     "name": "stdout",
     "output_type": "stream",
     "text": [
      "BL_22_W11a_raw.csv\n",
      "BL_22_W11b_raw.csv\n",
      "BL_22_W11b_raw_out.csv\n",
      "BL_22_W11_mtp_design.xlsx\n"
     ]
    }
   ],
   "source": [
    "files_with_raw_data = []\n",
    "\n",
    "for file in glob.glob(\"*.csv\"):\n",
    "    if \"raw\" in file and \"out\" not in file:\n",
    "        files_with_raw_data.append(file)\n",
    "        print(file)\n",
    "    elif \"raw_out\" in file:\n",
    "        file_data_raw_out = file\n",
    "        print(file)\n",
    "    elif \"pipetting_out\" in file:\n",
    "        file_data_pipetting_out = file\n",
    "        print(file)\n",
    "\n",
    "for file in glob.glob(\"*.xlsx\"):\n",
    "    if \"mtp_design\" in file:\n",
    "        file_mtp_design = file\n",
    "\n",
    "print(file_mtp_design)"
   ]
  },
  {
   "cell_type": "markdown",
   "metadata": {},
   "source": [
    "## Import raw measurement data"
   ]
  },
  {
   "cell_type": "code",
   "execution_count": 3,
   "metadata": {},
   "outputs": [],
   "source": [
    "df = pd.read_csv(file_data_raw_out, delimiter=\";\", index_col=False, low_memory=False)"
   ]
  },
  {
   "cell_type": "code",
   "execution_count": 4,
   "metadata": {},
   "outputs": [
    {
     "data": {
      "text/html": [
       "<div>\n",
       "<style scoped>\n",
       "    .dataframe tbody tr th:only-of-type {\n",
       "        vertical-align: middle;\n",
       "    }\n",
       "\n",
       "    .dataframe tbody tr th {\n",
       "        vertical-align: top;\n",
       "    }\n",
       "\n",
       "    .dataframe thead th {\n",
       "        text-align: right;\n",
       "    }\n",
       "</style>\n",
       "<table border=\"1\" class=\"dataframe\">\n",
       "  <thead>\n",
       "    <tr style=\"text-align: right;\">\n",
       "      <th></th>\n",
       "      <th>Type</th>\n",
       "      <th>Cycle</th>\n",
       "      <th>Well</th>\n",
       "      <th>Filterset</th>\n",
       "      <th>Time</th>\n",
       "      <th>Amp_1</th>\n",
       "      <th>Amp_2</th>\n",
       "      <th>AmpRef_1</th>\n",
       "      <th>AmpRef_2</th>\n",
       "      <th>Phase</th>\n",
       "      <th>...</th>\n",
       "      <th>P_LC_peltier</th>\n",
       "      <th>P_WB_heating_rod</th>\n",
       "      <th>T_UC_HumSensor_digital</th>\n",
       "      <th>T_CO2</th>\n",
       "      <th>X-Pos</th>\n",
       "      <th>Y-Pos</th>\n",
       "      <th>T_LED</th>\n",
       "      <th>Ref_Int</th>\n",
       "      <th>Ref_Phase</th>\n",
       "      <th>Ref_Gain</th>\n",
       "    </tr>\n",
       "  </thead>\n",
       "  <tbody>\n",
       "    <tr>\n",
       "      <th>0</th>\n",
       "      <td>M</td>\n",
       "      <td>1</td>\n",
       "      <td>1</td>\n",
       "      <td>1</td>\n",
       "      <td>46</td>\n",
       "      <td>14.01</td>\n",
       "      <td>0.0</td>\n",
       "      <td>13.11</td>\n",
       "      <td>0.0</td>\n",
       "      <td>-2.15</td>\n",
       "      <td>...</td>\n",
       "      <td>80.5</td>\n",
       "      <td>80.0</td>\n",
       "      <td>26.01</td>\n",
       "      <td>-1000.0</td>\n",
       "      <td>-103.8</td>\n",
       "      <td>-69.832</td>\n",
       "      <td>32</td>\n",
       "      <td>2988.95</td>\n",
       "      <td>74.02</td>\n",
       "      <td>3</td>\n",
       "    </tr>\n",
       "    <tr>\n",
       "      <th>1</th>\n",
       "      <td>M</td>\n",
       "      <td>1</td>\n",
       "      <td>2</td>\n",
       "      <td>1</td>\n",
       "      <td>47</td>\n",
       "      <td>12.40</td>\n",
       "      <td>0.0</td>\n",
       "      <td>11.61</td>\n",
       "      <td>0.0</td>\n",
       "      <td>-2.14</td>\n",
       "      <td>...</td>\n",
       "      <td>75.0</td>\n",
       "      <td>80.0</td>\n",
       "      <td>26.01</td>\n",
       "      <td>-1000.0</td>\n",
       "      <td>-90.8</td>\n",
       "      <td>-69.832</td>\n",
       "      <td>32</td>\n",
       "      <td>2989.12</td>\n",
       "      <td>74.01</td>\n",
       "      <td>3</td>\n",
       "    </tr>\n",
       "    <tr>\n",
       "      <th>2</th>\n",
       "      <td>M</td>\n",
       "      <td>1</td>\n",
       "      <td>3</td>\n",
       "      <td>1</td>\n",
       "      <td>48</td>\n",
       "      <td>13.06</td>\n",
       "      <td>0.0</td>\n",
       "      <td>12.23</td>\n",
       "      <td>0.0</td>\n",
       "      <td>-2.11</td>\n",
       "      <td>...</td>\n",
       "      <td>70.5</td>\n",
       "      <td>80.0</td>\n",
       "      <td>26.02</td>\n",
       "      <td>-1000.0</td>\n",
       "      <td>-77.8</td>\n",
       "      <td>-69.832</td>\n",
       "      <td>32</td>\n",
       "      <td>2988.81</td>\n",
       "      <td>74.02</td>\n",
       "      <td>3</td>\n",
       "    </tr>\n",
       "    <tr>\n",
       "      <th>3</th>\n",
       "      <td>M</td>\n",
       "      <td>1</td>\n",
       "      <td>4</td>\n",
       "      <td>1</td>\n",
       "      <td>50</td>\n",
       "      <td>16.07</td>\n",
       "      <td>0.0</td>\n",
       "      <td>15.04</td>\n",
       "      <td>0.0</td>\n",
       "      <td>-2.26</td>\n",
       "      <td>...</td>\n",
       "      <td>70.5</td>\n",
       "      <td>80.0</td>\n",
       "      <td>26.02</td>\n",
       "      <td>-1000.0</td>\n",
       "      <td>-64.8</td>\n",
       "      <td>-69.832</td>\n",
       "      <td>32</td>\n",
       "      <td>2988.35</td>\n",
       "      <td>74.02</td>\n",
       "      <td>3</td>\n",
       "    </tr>\n",
       "    <tr>\n",
       "      <th>4</th>\n",
       "      <td>M</td>\n",
       "      <td>1</td>\n",
       "      <td>5</td>\n",
       "      <td>1</td>\n",
       "      <td>51</td>\n",
       "      <td>13.12</td>\n",
       "      <td>0.0</td>\n",
       "      <td>12.28</td>\n",
       "      <td>0.0</td>\n",
       "      <td>-2.17</td>\n",
       "      <td>...</td>\n",
       "      <td>65.5</td>\n",
       "      <td>80.0</td>\n",
       "      <td>26.02</td>\n",
       "      <td>-1000.0</td>\n",
       "      <td>-51.8</td>\n",
       "      <td>-69.832</td>\n",
       "      <td>32</td>\n",
       "      <td>2988.29</td>\n",
       "      <td>74.01</td>\n",
       "      <td>3</td>\n",
       "    </tr>\n",
       "  </tbody>\n",
       "</table>\n",
       "<p>5 rows × 39 columns</p>\n",
       "</div>"
      ],
      "text/plain": [
       "  Type  Cycle  Well  Filterset  Time  Amp_1  Amp_2  AmpRef_1  AmpRef_2  Phase  \\\n",
       "0    M      1     1          1    46  14.01    0.0     13.11       0.0  -2.15   \n",
       "1    M      1     2          1    47  12.40    0.0     11.61       0.0  -2.14   \n",
       "2    M      1     3          1    48  13.06    0.0     12.23       0.0  -2.11   \n",
       "3    M      1     4          1    50  16.07    0.0     15.04       0.0  -2.26   \n",
       "4    M      1     5          1    51  13.12    0.0     12.28       0.0  -2.17   \n",
       "\n",
       "   ...  P_LC_peltier  P_WB_heating_rod  T_UC_HumSensor_digital   T_CO2  X-Pos  \\\n",
       "0  ...          80.5              80.0                   26.01 -1000.0 -103.8   \n",
       "1  ...          75.0              80.0                   26.01 -1000.0  -90.8   \n",
       "2  ...          70.5              80.0                   26.02 -1000.0  -77.8   \n",
       "3  ...          70.5              80.0                   26.02 -1000.0  -64.8   \n",
       "4  ...          65.5              80.0                   26.02 -1000.0  -51.8   \n",
       "\n",
       "    Y-Pos  T_LED  Ref_Int Ref_Phase  Ref_Gain  \n",
       "0 -69.832     32  2988.95     74.02         3  \n",
       "1 -69.832     32  2989.12     74.01         3  \n",
       "2 -69.832     32  2988.81     74.02         3  \n",
       "3 -69.832     32  2988.35     74.02         3  \n",
       "4 -69.832     32  2988.29     74.01         3  \n",
       "\n",
       "[5 rows x 39 columns]"
      ]
     },
     "execution_count": 4,
     "metadata": {},
     "output_type": "execute_result"
    }
   ],
   "source": [
    "df.head()"
   ]
  },
  {
   "cell_type": "markdown",
   "metadata": {},
   "source": [
    "## Find the process settings chosen by the user"
   ]
  },
  {
   "cell_type": "code",
   "execution_count": 5,
   "metadata": {},
   "outputs": [],
   "source": [
    "# Select the required data for the settings\n",
    "interesting_parameters = {}\n",
    "\n",
    "with open(files_with_raw_data[0]) as file:\n",
    "    while line := file.readline(): \n",
    "        if line.startswith(\"[\"):\n",
    "            line_clean = line.replace(\"\\n\", \"\").replace(\" \", \"\").replace(\"[\", \"\")\n",
    "            line_split = line_clean.split(\"]\")\n",
    "            interesting_parameters[line_split[0]] = line_split[1]"
   ]
  },
  {
   "cell_type": "code",
   "execution_count": 6,
   "metadata": {},
   "outputs": [],
   "source": [
    "# Find interesting process parameters\n",
    "keys_to_extract = [\"start_date_time\", \"end_date_time\", \"name\", \"user\", \"comment\", \"mtp\", \"mtp-rows\", \"mtp-columns\", \"mtp-lot\", \"no_filterset\", \"temperature\", \"humidity\", \"frequency\", \"cycle-time\"]\n",
    "process_parameters = {key: interesting_parameters[key] for key in keys_to_extract}\n",
    "#process_parameters"
   ]
  },
  {
   "cell_type": "markdown",
   "metadata": {},
   "source": [
    "## Select filter data"
   ]
  },
  {
   "cell_type": "code",
   "execution_count": 7,
   "metadata": {},
   "outputs": [],
   "source": [
    "# Select filter data\n",
    "filter_keys = ['filter_no', 'filter_name', 'filter_id', 'gain']\n",
    "dict_filters = {i: [] for i in filter_keys}\n",
    "\n",
    "for parameter in interesting_parameters:\n",
    "    if parameter.endswith('_no'):\n",
    "        dict_filters['filter_no'].append(interesting_parameters[parameter])\n",
    "    if parameter.endswith('_name'):\n",
    "        dict_filters['filter_name'].append(interesting_parameters[parameter])\n",
    "    if parameter.endswith('_filter_id'):\n",
    "        dict_filters['filter_id'].append(interesting_parameters[parameter])\n",
    "    if parameter.endswith('_gain_1'):\n",
    "        dict_filters['gain'].append(interesting_parameters[parameter])"
   ]
  },
  {
   "cell_type": "code",
   "execution_count": 8,
   "metadata": {},
   "outputs": [],
   "source": [
    "df_filters = pd.DataFrame(dict_filters, columns = filter_keys)"
   ]
  },
  {
   "cell_type": "code",
   "execution_count": 9,
   "metadata": {},
   "outputs": [
    {
     "data": {
      "text/html": [
       "<div>\n",
       "<style scoped>\n",
       "    .dataframe tbody tr th:only-of-type {\n",
       "        vertical-align: middle;\n",
       "    }\n",
       "\n",
       "    .dataframe tbody tr th {\n",
       "        vertical-align: top;\n",
       "    }\n",
       "\n",
       "    .dataframe thead th {\n",
       "        text-align: right;\n",
       "    }\n",
       "</style>\n",
       "<table border=\"1\" class=\"dataframe\">\n",
       "  <thead>\n",
       "    <tr style=\"text-align: right;\">\n",
       "      <th></th>\n",
       "      <th>filter_no</th>\n",
       "      <th>filter_name</th>\n",
       "      <th>filter_id</th>\n",
       "      <th>gain</th>\n",
       "    </tr>\n",
       "  </thead>\n",
       "  <tbody>\n",
       "    <tr>\n",
       "      <th>0</th>\n",
       "      <td>1</td>\n",
       "      <td>Biomass(4)</td>\n",
       "      <td>401</td>\n",
       "      <td>4</td>\n",
       "    </tr>\n",
       "    <tr>\n",
       "      <th>1</th>\n",
       "      <td>2</td>\n",
       "      <td>Biomass(6)</td>\n",
       "      <td>401</td>\n",
       "      <td>6</td>\n",
       "    </tr>\n",
       "    <tr>\n",
       "      <th>2</th>\n",
       "      <td>3</td>\n",
       "      <td>Doxorubicin(9)</td>\n",
       "      <td>447</td>\n",
       "      <td>9</td>\n",
       "    </tr>\n",
       "    <tr>\n",
       "      <th>3</th>\n",
       "      <td>4</td>\n",
       "      <td>Doxorubicin(11</td>\n",
       "      <td>447</td>\n",
       "      <td>11</td>\n",
       "    </tr>\n",
       "    <tr>\n",
       "      <th>4</th>\n",
       "      <td>5</td>\n",
       "      <td>pH(LG1)</td>\n",
       "      <td>421</td>\n",
       "      <td>8</td>\n",
       "    </tr>\n",
       "    <tr>\n",
       "      <th>5</th>\n",
       "      <td>6</td>\n",
       "      <td>DO(RF)</td>\n",
       "      <td>428</td>\n",
       "      <td>4</td>\n",
       "    </tr>\n",
       "  </tbody>\n",
       "</table>\n",
       "</div>"
      ],
      "text/plain": [
       "  filter_no     filter_name filter_id gain\n",
       "0         1      Biomass(4)       401    4\n",
       "1         2      Biomass(6)       401    6\n",
       "2         3  Doxorubicin(9)       447    9\n",
       "3         4  Doxorubicin(11       447   11\n",
       "4         5         pH(LG1)       421    8\n",
       "5         6          DO(RF)       428    4"
      ]
     },
     "execution_count": 9,
     "metadata": {},
     "output_type": "execute_result"
    }
   ],
   "source": [
    "df_filters"
   ]
  },
  {
   "cell_type": "code",
   "execution_count": 10,
   "metadata": {},
   "outputs": [],
   "source": [
    "# What are the filter_no for pH and DO? (They should be plotted differently)\n",
    "if \"pH(LG1)\" in list(df_filters[\"filter_name\"]):\n",
    "    filter_no_pH = int(df_filters[df_filters[\"filter_name\"] == \"pH(LG1)\"][\"filter_no\"].iloc[0])\n",
    "else:\n",
    "    filter_no_pH = \"None\"\n",
    "    print(\"No pH filter\")\n",
    "\n",
    "if \"DO(RF)\" in list(df_filters[\"filter_name\"]):\n",
    "    filter_no_DO = int(df_filters[df_filters[\"filter_name\"] == \"DO(RF)\"][\"filter_no\"].iloc[0])\n",
    "else:\n",
    "    filter_no_DO = \"None\"\n",
    "    print(\"No DO filter\")"
   ]
  },
  {
   "cell_type": "markdown",
   "metadata": {},
   "source": [
    "## Import well design"
   ]
  },
  {
   "cell_type": "code",
   "execution_count": 11,
   "metadata": {},
   "outputs": [],
   "source": [
    "# Collect well map from excel file and read into dataframe\n",
    "df_design = pd.read_excel(file_mtp_design)\n",
    "\n",
    "# Find which well number in raw data df corresponds to each well_code in df_design\n",
    "well_codes_raw = []\n",
    "well_nos_raw = []\n",
    "counter = 1\n",
    "\n",
    "for parameter in interesting_parameters:\n",
    "    if parameter.endswith(\"well\"):\n",
    "        well_codes_raw.append(interesting_parameters[parameter])\n",
    "        well_nos_raw.append(counter)\n",
    "        counter += 1"
   ]
  },
  {
   "cell_type": "code",
   "execution_count": 12,
   "metadata": {},
   "outputs": [],
   "source": [
    "well_codes_dict = dict(zip(well_codes_raw, well_nos_raw))"
   ]
  },
  {
   "cell_type": "code",
   "execution_count": 13,
   "metadata": {},
   "outputs": [],
   "source": [
    "# Add well number to design dataframe\n",
    "well_code_ordered = []\n",
    "\n",
    "for code in df_design[\"well_code\"]:\n",
    "    well_code_ordered.append(well_codes_dict[code])\n",
    "\n",
    "df_design.insert(1, 'well_no', well_code_ordered)"
   ]
  },
  {
   "cell_type": "code",
   "execution_count": 14,
   "metadata": {},
   "outputs": [
    {
     "data": {
      "text/html": [
       "<div>\n",
       "<style scoped>\n",
       "    .dataframe tbody tr th:only-of-type {\n",
       "        vertical-align: middle;\n",
       "    }\n",
       "\n",
       "    .dataframe tbody tr th {\n",
       "        vertical-align: top;\n",
       "    }\n",
       "\n",
       "    .dataframe thead th {\n",
       "        text-align: right;\n",
       "    }\n",
       "</style>\n",
       "<table border=\"1\" class=\"dataframe\">\n",
       "  <thead>\n",
       "    <tr style=\"text-align: right;\">\n",
       "      <th></th>\n",
       "      <th>well_code</th>\n",
       "      <th>well_no</th>\n",
       "      <th>strain</th>\n",
       "      <th>doxo</th>\n",
       "      <th>time</th>\n",
       "    </tr>\n",
       "  </thead>\n",
       "  <tbody>\n",
       "    <tr>\n",
       "      <th>0</th>\n",
       "      <td>A01</td>\n",
       "      <td>1</td>\n",
       "      <td>WT</td>\n",
       "      <td>0</td>\n",
       "      <td>0</td>\n",
       "    </tr>\n",
       "    <tr>\n",
       "      <th>1</th>\n",
       "      <td>B01</td>\n",
       "      <td>16</td>\n",
       "      <td>WT</td>\n",
       "      <td>5</td>\n",
       "      <td>0</td>\n",
       "    </tr>\n",
       "    <tr>\n",
       "      <th>2</th>\n",
       "      <td>C01</td>\n",
       "      <td>17</td>\n",
       "      <td>WT</td>\n",
       "      <td>10</td>\n",
       "      <td>0</td>\n",
       "    </tr>\n",
       "    <tr>\n",
       "      <th>3</th>\n",
       "      <td>D01</td>\n",
       "      <td>32</td>\n",
       "      <td>WT</td>\n",
       "      <td>25</td>\n",
       "      <td>0</td>\n",
       "    </tr>\n",
       "    <tr>\n",
       "      <th>4</th>\n",
       "      <td>E01</td>\n",
       "      <td>33</td>\n",
       "      <td>WT</td>\n",
       "      <td>50</td>\n",
       "      <td>0</td>\n",
       "    </tr>\n",
       "  </tbody>\n",
       "</table>\n",
       "</div>"
      ],
      "text/plain": [
       "  well_code  well_no strain  doxo  time\n",
       "0       A01        1     WT     0     0\n",
       "1       B01       16     WT     5     0\n",
       "2       C01       17     WT    10     0\n",
       "3       D01       32     WT    25     0\n",
       "4       E01       33     WT    50     0"
      ]
     },
     "execution_count": 14,
     "metadata": {},
     "output_type": "execute_result"
    }
   ],
   "source": [
    "df_design.head()"
   ]
  },
  {
   "cell_type": "markdown",
   "metadata": {},
   "source": [
    "## Add well design to measurement df"
   ]
  },
  {
   "cell_type": "code",
   "execution_count": 15,
   "metadata": {},
   "outputs": [],
   "source": [
    "# Convert well design dataframe to dictionary based on the well number\n",
    "dict_design = df_design.set_index(\"well_no\").to_dict()\n",
    "\n",
    "# Find all design categories that should be added to the dataframe\n",
    "design_categories = list(df_design.columns)\n",
    "design_categories.remove(\"well_no\")\n",
    "\n",
    "# Add a column for each category to the dataframe\n",
    "for category in design_categories:\n",
    "    df[category] = df[df[\"Well\"].notnull()][\"Well\"].apply( lambda x: dict_design[category][x])"
   ]
  },
  {
   "cell_type": "markdown",
   "metadata": {},
   "source": [
    "## Add filter data to measurement df"
   ]
  },
  {
   "cell_type": "code",
   "execution_count": 16,
   "metadata": {},
   "outputs": [],
   "source": [
    "# Rearrange dictionary of filters\n",
    "dict_filters_2 = df_filters.set_index(\"filter_no\").to_dict()\n",
    "\n",
    "# Add a column for filter data to the dataframe\n",
    "df[\"filter_name\"] = df[df[\"Filterset\"].notnull()][\"Filterset\"].apply( lambda x: dict_filters_2[\"filter_name\"][str(int(x))])"
   ]
  },
  {
   "cell_type": "markdown",
   "metadata": {},
   "source": [
    "## Import raw pipetting data"
   ]
  },
  {
   "cell_type": "code",
   "execution_count": 17,
   "metadata": {},
   "outputs": [
    {
     "ename": "NameError",
     "evalue": "name 'file_data_pipetting_out' is not defined",
     "output_type": "error",
     "traceback": [
      "\u001b[1;31m---------------------------------------------------------------------------\u001b[0m",
      "\u001b[1;31mNameError\u001b[0m                                 Traceback (most recent call last)",
      "\u001b[1;32m~\\AppData\\Local\\Temp/ipykernel_23376/2944405824.py\u001b[0m in \u001b[0;36m<module>\u001b[1;34m\u001b[0m\n\u001b[1;32m----> 1\u001b[1;33m \u001b[0mdf_pip\u001b[0m \u001b[1;33m=\u001b[0m \u001b[0mpd\u001b[0m\u001b[1;33m.\u001b[0m\u001b[0mread_csv\u001b[0m\u001b[1;33m(\u001b[0m\u001b[0mfile_data_pipetting_out\u001b[0m\u001b[1;33m,\u001b[0m \u001b[0mdelimiter\u001b[0m\u001b[1;33m=\u001b[0m\u001b[1;34m\";\"\u001b[0m\u001b[1;33m,\u001b[0m \u001b[0mindex_col\u001b[0m\u001b[1;33m=\u001b[0m\u001b[1;32mFalse\u001b[0m\u001b[1;33m,\u001b[0m \u001b[0mlow_memory\u001b[0m\u001b[1;33m=\u001b[0m\u001b[1;32mFalse\u001b[0m\u001b[1;33m)\u001b[0m\u001b[1;33m\u001b[0m\u001b[1;33m\u001b[0m\u001b[0m\n\u001b[0m",
      "\u001b[1;31mNameError\u001b[0m: name 'file_data_pipetting_out' is not defined"
     ]
    }
   ],
   "source": [
    "df_pip = pd.read_csv(file_data_pipetting_out, delimiter=\";\", index_col=False, low_memory=False)"
   ]
  },
  {
   "cell_type": "code",
   "execution_count": null,
   "metadata": {},
   "outputs": [],
   "source": [
    "df_pip.head()"
   ]
  },
  {
   "cell_type": "markdown",
   "metadata": {},
   "source": [
    "## Adjust pipetting data"
   ]
  },
  {
   "cell_type": "code",
   "execution_count": null,
   "metadata": {},
   "outputs": [],
   "source": [
    "import string as string"
   ]
  },
  {
   "cell_type": "code",
   "execution_count": null,
   "metadata": {},
   "outputs": [],
   "source": [
    "# Convert the time from hours to seconds\n",
    "df_pip[\"Runtime[h]\"] = df_pip[\"Runtime[h]\"].str.replace(',', '.').astype(float)\n",
    "df_pip[\"Time\"] = df_pip[\"Runtime[h]\"]*3600"
   ]
  },
  {
   "cell_type": "code",
   "execution_count": null,
   "metadata": {},
   "outputs": [],
   "source": [
    "# Convert well design dataframe to dictionary based on the well code\n",
    "dict_design2 = df_design.set_index(\"well_code\").to_dict()\n",
    "\n",
    "# Add well numbers based in the well code to the dataframe\n",
    "df_pip[\"well_no\"] = df_pip[df_pip[\"Well\"].notnull()][\"Well\"].apply( lambda x: dict_design2[\"well_no\"][x])"
   ]
  },
  {
   "cell_type": "code",
   "execution_count": null,
   "metadata": {},
   "outputs": [],
   "source": [
    "# Create dictionary of filterset and a alphabetical code\n",
    "triggers = df_pip.Trigger.unique()\n",
    "triggers_no = list(string.ascii_uppercase)[0:len(triggers)]\n",
    "dict_triggers = {triggers[i]: triggers_no[i] for i in range(len(triggers))}\n",
    "\n",
    "# Add \"Filterset\" column to identify the triggers\n",
    "df_pip[\"Filterset\"] = df_pip[df_pip[\"Trigger\"].notnull()][\"Trigger\"].apply( lambda x: dict_triggers[x])"
   ]
  },
  {
   "cell_type": "code",
   "execution_count": null,
   "metadata": {},
   "outputs": [],
   "source": [
    "# Rename the columns so that they will fit into the measurement dataframe\n",
    "df_pip.rename(columns={'Cycle No.': 'Cycle', 'Well': 'well_code', 'well_no': 'Well'}, inplace=True)"
   ]
  },
  {
   "cell_type": "code",
   "execution_count": null,
   "metadata": {},
   "outputs": [],
   "source": [
    "# Sort the dataframe to separate each well for each trigger and sort by cycle number\n",
    "df_pip = df_pip.sort_values([\"Well\", \"Trigger\", \"Cycle\"])\n",
    "\n",
    "# Combine the trigger and well columns to one column\n",
    "df_pip['trigger_well'] = df_pip['Filterset'] + \"_\" + df_pip[\"Well\"].astype(str)"
   ]
  },
  {
   "cell_type": "code",
   "execution_count": null,
   "metadata": {},
   "outputs": [],
   "source": [
    "# Add empty column for cumulative data\n",
    "df_pip['cum_value'] = df_pip.apply(lambda _: '', axis=1)\n",
    "end_time = df[\"Time\"].max()\n",
    "\n",
    "for trigger_well in df_pip['trigger_well'].unique():\n",
    "    \n",
    "    # Cumulative addition for each well for each trigger separately\n",
    "    df_pip.loc[df_pip['trigger_well'] == trigger_well, \"cum_value\"] = df_pip[df_pip['trigger_well'] == trigger_well][\"Volume\"].cumsum()\n",
    "    max_value = df_pip[df_pip['trigger_well'] == trigger_well][\"cum_value\"].max()\n",
    "    \n",
    "    # Identify trigger code and well code separately\n",
    "    trigger_code = df_pip[df_pip[\"trigger_well\"] == trigger_well][\"Filterset\"].iloc[0]\n",
    "    well_code = df_pip[df_pip[\"trigger_well\"] == trigger_well][\"Well\"].iloc[0]\n",
    "    \n",
    "    # For each well for each trigger add rows for volume = 0 at time = 0 and volume = max at time = max\n",
    "    new_row_max = {\"Filterset\": trigger_code, \"Well\": well_code, \"trigger_well\": trigger_well, \"Time\": end_time, \"cum_value\": max_value}\n",
    "    new_row_min = {\"Filterset\": trigger_code, \"Well\": well_code, \"trigger_well\": trigger_well, \"Time\": 0, \"cum_value\": 0}\n",
    "    \n",
    "    df_pip = df_pip.append(new_row_max, ignore_index=True)\n",
    "    df_pip = df_pip.append(new_row_min, ignore_index=True)\n"
   ]
  },
  {
   "cell_type": "code",
   "execution_count": null,
   "metadata": {},
   "outputs": [],
   "source": [
    "df_pip = df_pip.sort_values([\"Well\", \"Filterset\", \"Time\"])"
   ]
  },
  {
   "cell_type": "code",
   "execution_count": null,
   "metadata": {},
   "outputs": [],
   "source": [
    "x = df_pip[(df_pip[\"Well\"] == 32) & (df_pip[\"Filterset\"] == \"A\")][\"Time\"]/3600\n",
    "y = df_pip[(df_pip[\"Well\"] == 32) & (df_pip[\"Filterset\"] == \"A\")][\"cum_value\"]\n",
    "#plt.plot(x, y)"
   ]
  },
  {
   "cell_type": "markdown",
   "metadata": {},
   "source": [
    "## Add filter data to measurement df"
   ]
  },
  {
   "cell_type": "code",
   "execution_count": null,
   "metadata": {},
   "outputs": [],
   "source": [
    "df_pip"
   ]
  },
  {
   "cell_type": "code",
   "execution_count": null,
   "metadata": {},
   "outputs": [],
   "source": [
    "# df = df.append(df_pip).fillna(0)"
   ]
  },
  {
   "cell_type": "markdown",
   "metadata": {},
   "source": [
    "## Output dataframe to .csv"
   ]
  },
  {
   "cell_type": "code",
   "execution_count": 18,
   "metadata": {},
   "outputs": [],
   "source": [
    "file_data_out = file_data_raw_out.replace(\"_raw_out.csv\",\"_summary.csv\")\n",
    "df.to_csv(file_data_out, encoding='utf-8', index=False)"
   ]
  },
  {
   "cell_type": "markdown",
   "metadata": {},
   "source": [
    "## Plotting"
   ]
  },
  {
   "cell_type": "code",
   "execution_count": 19,
   "metadata": {},
   "outputs": [],
   "source": [
    "import matplotlib.pyplot as plt\n",
    "import numpy as np"
   ]
  },
  {
   "cell_type": "markdown",
   "metadata": {},
   "source": [
    "## Plotting one filter per graph"
   ]
  },
  {
   "cell_type": "code",
   "execution_count": 84,
   "metadata": {},
   "outputs": [],
   "source": [
    "def plotting_data(chosen_categories, chosen_filter, reduce_replicates):\n",
    "    \n",
    "    if reduce_replicates == \"yes\":\n",
    "        # Select only one of each replicate -> NOTE: depends on where the replicates are in the plate!!!\n",
    "        list_repr = np.arange(0, len(df_design), 3)\n",
    "        list_repr = [22 if x==21 else x for x in list_repr]\n",
    "        print(list_repr)\n",
    "        df_design_ed = df_design.iloc[list_repr]\n",
    "    else:\n",
    "        df_design_ed = df_design\n",
    "\n",
    "    # Select the categories that should be plotted\n",
    "    for i in range(len(chosen_categories)):\n",
    "        df_design_ed = df_design_ed[df_design_ed[categories[i]].isin(chosen_categories[i])]\n",
    "\n",
    "    # Select wells that should be plotted\n",
    "    selected_wells = df_design_ed[\"well_no\"].tolist()\n",
    "    \n",
    "    # Select the data column that should be plotted\n",
    "    if chosen_filter == filter_no_pH or chosen_filter == filter_no_DO:\n",
    "        data_column = 'Cal'\n",
    "    elif type(chosen_filter) == str:\n",
    "        data_column = \"cum_value\"\n",
    "    else:\n",
    "        data_column = 'Amp_1'\n",
    "\n",
    "    # Initiate the figure\n",
    "    fig = plt.figure(figsize=(15,7))  #15, 7\n",
    "    \n",
    "    # Plot the data onto the figure\n",
    "    legend = []\n",
    "    max_y = 0\n",
    "    \n",
    "    for i in selected_wells:\n",
    "        \n",
    "        # Find filter data for each well that should be plotted\n",
    "        x = df[(df[\"Well\"] == i) & (df[\"Filterset\"] == chosen_filter)]['Time']/3600  # convert from seconds to hours\n",
    "        y = df[(df[\"Well\"] == i) & (df[\"Filterset\"] == chosen_filter)][data_column]\n",
    "        \n",
    "        # Plot the data of each well onto the graph\n",
    "        plt.plot(x, y)\n",
    "        \n",
    "        # Make the legend description for each well\n",
    "        legend_well = str(df_design[(df_design[\"well_no\"] == i)][\"well_code\"].iloc[0])\n",
    "        for cat in categories:\n",
    "            legend_cat = df_design[(df_design[\"well_no\"] == i)][cat].iloc[0]\n",
    "            legend_well += \"; \" + str(legend_cat)\n",
    "        legend.append(legend_well)\n",
    "    \n",
    "        # Determine the highest y-value in all data\n",
    "        if y.empty == False:\n",
    "            if max(y) > max_y:\n",
    "                max_y = max(y)\n",
    "    \n",
    "    min_y = 0\n",
    "    \n",
    "    # Determine the maximum of the y-axis based on the highest y-value in all data\n",
    "    if chosen_filter == filter_no_pH:\n",
    "        min_y = 6\n",
    "        max_y = 8\n",
    "    elif chosen_filter == filter_no_DO:\n",
    "        max_y = 120\n",
    "    else:\n",
    "        max_y = max_y + 50 - max_y % 50\n",
    "        #max_y = 500\n",
    "    \n",
    "    # set final time of interseting data\n",
    "    #max_x = 80\n",
    "    \n",
    "    # Plot the labels, legend, title and determine the axis limits\n",
    "    plt.xlabel(\"Time (h)\")\n",
    "    plt.ylabel(\"Output\")\n",
    "    plt.legend(legend, loc='center left', bbox_to_anchor=(1, 0.5))\n",
    "    #plt.legend(legend, bbox_to_anchor=(1.05, 1))\n",
    "    plt.title(df_filters[(df_filters[\"filter_no\"] == str(chosen_filter))][\"filter_name\"].iloc[0])\n",
    "    plt.xlim(xmin=0)\n",
    "    plt.ylim(ymin=min_y, ymax=max_y)"
   ]
  },
  {
   "cell_type": "code",
   "execution_count": 85,
   "metadata": {},
   "outputs": [
    {
     "name": "stdout",
     "output_type": "stream",
     "text": [
      "Choose data from following:\n",
      "['strain', 'doxo', 'time']\n",
      "[['WT', 'no', 'mut'], [0, 5, 10, 25, 50, 100], [0, 24]]\n",
      "Choose filter from following:\n",
      "['Biomass(4)', 'Biomass(6)', 'Doxorubicin(9)', 'Doxorubicin(11', 'pH(LG1)', 'DO(RF)']\n",
      "['1', '2', '3', '4', '5', '6']\n"
     ]
    }
   ],
   "source": [
    "# What can be plotted?\n",
    "categories = []\n",
    "values = []\n",
    "for i in range(2, len(df_design.columns)):\n",
    "    category = list(df_design.columns)[i]\n",
    "    categories.append(category)\n",
    "    value_options = df_design[category].unique()\n",
    "    values.append(list(value_options))\n",
    "\n",
    "print(f\"Choose data from following:\\n{categories}\\n{values}\")\n",
    "\n",
    "filter_names = df_filters[\"filter_no\"].tolist()\n",
    "filter_nos = df_filters[\"filter_name\"].tolist()\n",
    "\n",
    "print(f\"Choose filter from following:\\n{filter_nos}\\n{filter_names}\")"
   ]
  },
  {
   "cell_type": "code",
   "execution_count": 86,
   "metadata": {},
   "outputs": [
    {
     "data": {
      "image/png": "[encoded data removed]",
      "text/plain": [
       "<Figure size 1080x504 with 1 Axes>"
      ]
     },
     "metadata": {
      "needs_background": "light"
     },
     "output_type": "display_data"
    }
   ],
   "source": [
    "# Insert here what you want to plot:\n",
    "plotting_data([['mut', 'no'], [0, 5, 10, 25, 50, 100], [0]], 2, \"no\")"
   ]
  },
  {
   "cell_type": "markdown",
   "metadata": {},
   "source": [
    "### Plotting multiple filters per graph"
   ]
  },
  {
   "cell_type": "code",
   "execution_count": null,
   "metadata": {},
   "outputs": [],
   "source": [
    "def plotting_data2(chosen_categories, chosen_filter_1, chosen_filter_2, reduce_replicates):\n",
    "    \n",
    "    # Select only one of each replicate -> note depends on where the replicates are in the plate!!!\n",
    "    df_design_repr = df_design\n",
    "    df_design_repr = df_design_repr.iloc[np.arange(0, 47, 3)]\n",
    "\n",
    "    if reduce_replicates == \"yes\":\n",
    "        df_design_ed = df_design_repr\n",
    "        \n",
    "    else:\n",
    "        df_design_ed = df_design\n",
    "    \n",
    "    # Select the categories that should be plotted\n",
    "    for i in range(len(chosen_categories)):\n",
    "        df_design_ed = df_design_ed[df_design_ed[categories[i]].isin(chosen_categories[i])]\n",
    "\n",
    "    # Select wells that should be plotted\n",
    "    selected_wells = df_design_ed[\"well_no\"].tolist()\n",
    "    \n",
    "    # Initiate the figure\n",
    "    fig, ax1 = plt.subplots(figsize=(15,7))\n",
    "    \n",
    "    # Plot the data onto the figure\n",
    "    legend = []\n",
    "    max_y = 0\n",
    "\n",
    "    # Determine colors in graph:\n",
    "    colors = ['C0', 'C1', 'C2', 'C3', 'C4', 'C5', 'C6', 'C7', 'C8', 'C9']\n",
    "    counter = 0\n",
    "    \n",
    "    for i in selected_wells:\n",
    "            \n",
    "        # Select the data column that should be plotted\n",
    "        if chosen_filter_1 == filter_no_pH or chosen_filter_1 == filter_no_DO:\n",
    "            data_column = 'Cal'\n",
    "        else:\n",
    "            data_column = 'Amp_1'\n",
    "\n",
    "        # Find filter data for each well that should be plotted\n",
    "        x = df[(df[\"Well\"] == i) & (df[\"Filterset\"] == chosen_filter_1)]['Time']/3600  # convert from seconds to hours\n",
    "        y = df[(df[\"Well\"] == i) & (df[\"Filterset\"] == chosen_filter_1)][data_column]\n",
    "\n",
    "        # Plot the data of each well onto the graph\n",
    "        ax1.plot(x, y, color=colors[counter])\n",
    "        counter += 1\n",
    "\n",
    "        # Make the legend description for each well\n",
    "        legend_well = str(df_design[(df_design[\"well_no\"] == i)][\"well_code\"].iloc[0])\n",
    "        for cat in categories:\n",
    "            legend_cat = df_design[(df_design[\"well_no\"] == i)][cat].iloc[0]\n",
    "            legend_well += \"; \" + str(legend_cat)\n",
    "        legend.append(legend_well)\n",
    "\n",
    "        # Determine the highest y-value in all data\n",
    "        if max(y) > max_y:\n",
    "            max_y = max(y)\n",
    "    \n",
    "    min_y = 0\n",
    "    # Determine the maximum of the y-axis based on the highest y-value in all data\n",
    "    if chosen_filter_1 == filter_no_pH:\n",
    "        min_y = 6\n",
    "        max_y = 8\n",
    "    elif chosen_filter_1 == filter_no_DO:\n",
    "        max_y = 120\n",
    "    elif max_y < 50:\n",
    "        max_y = max_y + 10 - max_y % 10   \n",
    "    else:\n",
    "        max_y = max_y + 50 - max_y % 50\n",
    "    \n",
    "    ax1_max_y = max_y\n",
    "    ax1_min_y = min_y\n",
    "    \n",
    "    plt.legend(legend)  # , bbox_to_anchor=(1.05, 1)\n",
    "    ax2 = ax1.twinx()\n",
    "    \n",
    "    max_y = 0\n",
    "    counter = 0\n",
    "    \n",
    "    for i in selected_wells:\n",
    "            \n",
    "        # Select the data column that should be plotted\n",
    "        if chosen_filter_2 == filter_no_pH or chosen_filter_2 == filter_no_DO:\n",
    "            data_column = 'Cal'\n",
    "        else:\n",
    "            data_column = 'Amp_1'\n",
    "\n",
    "        # Find filter data for each well that should be plotted\n",
    "        x = df[(df[\"Well\"] == i) & (df[\"Filterset\"] == chosen_filter_2)]['Time']/3600  # convert from seconds to hours\n",
    "        y = df[(df[\"Well\"] == i) & (df[\"Filterset\"] == chosen_filter_2)][data_column]\n",
    "\n",
    "        # Plot the data of each well onto the graph\n",
    "        ax2.plot(x, y, '--', color=colors[counter])\n",
    "        counter += 1\n",
    "\n",
    "        # Determine the highest y-value in all data\n",
    "        if max(y) > max_y:\n",
    "            max_y = max(y)\n",
    "    \n",
    "    min_y = 0\n",
    "    # Determine the maximum of the y-axis based on the highest y-value in all data\n",
    "    if chosen_filter_2 == filter_no_pH:\n",
    "        min_y = 6\n",
    "        max_y = 8\n",
    "    elif chosen_filter_2 == filter_no_DO:\n",
    "        max_y = 120\n",
    "    elif max_y < 50:\n",
    "        max_y = max_y + 10 - max_y % 10   \n",
    "    else:\n",
    "        max_y = max_y + 50 - max_y % 50\n",
    "    \n",
    "    ax2_max_y = max_y\n",
    "    ax2_min_y = min_y\n",
    "\n",
    "\n",
    "    filter_1 = df_filters[(df_filters[\"filter_no\"] == str(chosen_filter_1))][\"filter_name\"].iloc[0]\n",
    "    filter_2 = df_filters[(df_filters[\"filter_no\"] == str(chosen_filter_2))][\"filter_name\"].iloc[0]\n",
    "    \n",
    "    # Plot the labels, legend, title and determine the axis limits\n",
    "    ax1.set_xlabel(\"Time (h)\")\n",
    "    ax1.set_ylabel(filter_1)\n",
    "    ax1.set_ylim(ymin=ax1_min_y, ymax=ax1_max_y)\n",
    "    ax2.set_ylabel(filter_2)\n",
    "    ax2.set_ylim(ymin=ax2_min_y, ymax=ax2_max_y)\n",
    "    plt.title(filter_1 + ' and ' + filter_2)\n",
    "    plt.xlim(xmin=0)\n"
   ]
  },
  {
   "cell_type": "code",
   "execution_count": null,
   "metadata": {},
   "outputs": [],
   "source": [
    "print(f\"Choose data from following:\\n{categories}\\n{values}\")\n",
    "print(f\"Choose filter from following:\\n{filter_nos}\\n{filter_names}\")"
   ]
  },
  {
   "cell_type": "code",
   "execution_count": null,
   "metadata": {},
   "outputs": [],
   "source": [
    "# Insert here what you want to plot:\n",
    "plotting_data2([['G001', 'WT'], ['R5-glu', 'R5+glu'], ['no']], 3, 4, \"yes\")"
   ]
  },
  {
   "cell_type": "raw",
   "metadata": {},
   "source": [
    "Add to programm: \n",
    "- Replicates in similar colour!\n",
    "- added base - acid\n",
    "\n",
    "- do not plot pH > 8.5 or plot confidence region\n",
    "- do not plot biomass > 500 or so\n",
    "- .py code met functies\n",
    "- Leave out contaminated wells more sturdy\n",
    "- Chose representative of each replicate (as above)\n",
    "- update description of what to choose from\n",
    "- legend still falls onto graph\n",
    "- filters: filter_name or filter description in BL software?\n",
    "\n",
    "\n",
    "NOTE: previous experiment:\n",
    "#         list_repr = [4 if x==3 else x for x in list_repr]\n",
    "#         list_repr = [16 if x==15 else x for x in list_repr]\n",
    "#         list_repr = [28 if x==27 else x for x in list_repr]\n",
    "#         df_design_repr = df_design.iloc[list_repr]\n",
    "#         df_design_ed = df_design_repr.sort_values(\"strain\")\n",
    "\n"
   ]
  }
 ],
 "metadata": {
  "kernelspec": {
   "display_name": "Python 3 (ipykernel)",
   "language": "python",
   "name": "python3"
  },
  "language_info": {
   "codemirror_mode": {
    "name": "ipython",
    "version": 3
   },
   "file_extension": ".py",
   "mimetype": "text/x-python",
   "name": "python",
   "nbconvert_exporter": "python",
   "pygments_lexer": "ipython3",
   "version": "3.9.7"
  }
 },
 "nbformat": 4,
 "nbformat_minor": 4
}
