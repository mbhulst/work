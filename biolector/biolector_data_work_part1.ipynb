{
 "cells": [
  {
   "cell_type": "markdown",
   "metadata": {},
   "source": [
    "# Process raw data from Biolector"
   ]
  },
  {
   "cell_type": "code",
   "execution_count": 1,
   "metadata": {},
   "outputs": [],
   "source": [
    "import pandas as pd\n",
    "import glob"
   ]
  },
  {
   "cell_type": "markdown",
   "metadata": {},
   "source": [
    "## Automatically select input files from current folder"
   ]
  },
  {
   "cell_type": "code",
   "execution_count": 2,
   "metadata": {},
   "outputs": [
    {
     "name": "stdout",
     "output_type": "stream",
     "text": [
      "MF_2021_W08_pipetting.csv\n",
      "MF_2021_W08_raw.csv\n"
     ]
    }
   ],
   "source": [
    "files_with_raw_data = []\n",
    "pipetting_file = \"no\"\n",
    "\n",
    "for file in glob.glob(\"*.csv\"):\n",
    "    if \"raw\" in file and \"out\" not in file:\n",
    "        files_with_raw_data.append(file)\n",
    "        print(file)\n",
    "    if \"pipetting\" in file and \"out\" not in file:\n",
    "        pipetting_file = \"yes\"\n",
    "        file_data_pipetting = file\n",
    "        print(file)\n",
    "        file_data_pipetting_out = file_data_pipetting.replace(\".csv\",\"_out.csv\")"
   ]
  },
  {
   "cell_type": "markdown",
   "metadata": {},
   "source": [
    "## Build file that only contains raw data of measurements"
   ]
  },
  {
   "cell_type": "code",
   "execution_count": 3,
   "metadata": {},
   "outputs": [],
   "source": [
    "# build and fix data\n",
    "def build_data_file(file_name_in, file_name_out):\n",
    "    \n",
    "    counter = 0\n",
    "\n",
    "    if \"pipetting\" in file_name_in:\n",
    "\n",
    "        with open(file_data_pipetting) as file:\n",
    "            while line := file.readline(): \n",
    "                if line == \"[Log]\\n\":\n",
    "                    start_idx = counter\n",
    "                counter += 1\n",
    "\n",
    "        end_idx = counter\n",
    "    \n",
    "\n",
    "    else:\n",
    "        \n",
    "        interesting = []\n",
    "\n",
    "        with open(file_name_in) as file:\n",
    "            while line := file.readline(): \n",
    "                if line.startswith(\"=\"):\n",
    "                    interesting.append([counter, line])\n",
    "\n",
    "                counter += 1\n",
    "\n",
    "        for inter in interesting:\n",
    "            if \"data\" in inter[1]:\n",
    "                start_idx = inter[0]\n",
    "\n",
    "            if \"end_process\" in inter[1]:\n",
    "                end_idx = inter[0]\n",
    "    \n",
    "    counter = 0\n",
    "    result = \"\"\n",
    "    \n",
    "    with open(file_name_in) as file:\n",
    "        \n",
    "        while line := file.readline(): \n",
    "            \n",
    "            if counter >= end_idx:\n",
    "                break\n",
    "                \n",
    "            if start_idx < counter:\n",
    "                if counter == start_idx + 1:\n",
    "                    print(f\"Found header:\\n{line.strip()}\")\n",
    "                    result += line\n",
    "                elif line.startswith(\"C\"):\n",
    "                    pass\n",
    "                elif line.startswith(\"P\"):\n",
    "                    pass\n",
    "                elif line.startswith(\"R\"):\n",
    "                    pass\n",
    "                elif line.startswith(\"F\"):\n",
    "                    pass    \n",
    "                else:\n",
    "                    result += line\n",
    "            \n",
    "            counter += 1\n",
    "    \n",
    "    with open(file_name_out, 'w') as file:\n",
    "        file.write(result)"
   ]
  },
  {
   "cell_type": "code",
   "execution_count": 4,
   "metadata": {},
   "outputs": [],
   "source": [
    "# file_data_raw = file\n",
    "# file_data_raw_out = file_data_raw.replace(\".csv\",\"_out.csv\")\n",
    "# file_data_raw_out = file_data_raw.split(\"raw\")[0] + 'raw_out.csv'\n",
    "# build_data_file(file_data_raw, file_data_raw_out)"
   ]
  },
  {
   "cell_type": "code",
   "execution_count": 5,
   "metadata": {},
   "outputs": [],
   "source": [
    "# combine data files in one .csv file and correct for time issue\n",
    "def correct_for_time(file_name_in, file_name_out, last_time):\n",
    "    build_data_file(file_name_in, file_name_out)\n",
    "    df = pd.read_csv(file_name_out, delimiter=\";\", index_col=False, low_memory=False)\n",
    "    df[\"Time\"] = df[\"Time\"] + last_time\n",
    "    last_time = df[\"Time\"].iloc[-1]\n",
    "    df.to_csv(file_name_out, index=False, sep = ';')\n",
    "    return last_time"
   ]
  },
  {
   "cell_type": "code",
   "execution_count": 6,
   "metadata": {},
   "outputs": [
    {
     "name": "stdout",
     "output_type": "stream",
     "text": [
      "Found header:\n",
      "Type;Cycle;Well;Filterset;Time;Amp_1;Amp_2;AmpRef_1;AmpRef_2;Phase;Cal;T_UC_HumSensor_analog;T_LC_PT100;T_UC_PT100;O2;CO2;Humidity;Shaker;Service;User_Comment;Sys_Comment;Reservoir;MF_Volume;T_WB_heating_rod;T_144;T_180;T_181_1;T_192;P_UC_peltier;P_LC_peltier;P_WB_heating_rod;T_UC_HumSensor_digital;T_CO2;X-Pos;Y-Pos;T_LED;Ref_Int;Ref_Phase;Ref_Gain\n"
     ]
    }
   ],
   "source": [
    "files_with_raw_data_out = []\n",
    "last_time = 0\n",
    "\n",
    "for file in files_with_raw_data:\n",
    "    file_data_raw = file\n",
    "    file_data_raw_out = file_data_raw.replace(\".csv\",\"_out.csv\")\n",
    "    file_data_raw_out = file_data_raw.split(\"raw\")[0] + 'raw_out.csv'\n",
    "    files_with_raw_data_out.append(file_data_raw_out)\n",
    "    last_time = correct_for_time(file_data_raw, file_data_raw_out, last_time)"
   ]
  },
  {
   "cell_type": "code",
   "execution_count": 7,
   "metadata": {},
   "outputs": [],
   "source": [
    "#combine all files in the list\n",
    "combined_csv = pd.concat([pd.read_csv(f, delimiter=\";\", index_col=False, low_memory=False) for f in files_with_raw_data_out])\n",
    "#export to csv\n",
    "combined_csv.to_csv(file_data_raw_out, index=False, sep = ';')"
   ]
  },
  {
   "cell_type": "markdown",
   "metadata": {},
   "source": [
    "## Build file that only contains raw data of pipetting steps"
   ]
  },
  {
   "cell_type": "code",
   "execution_count": 8,
   "metadata": {},
   "outputs": [
    {
     "name": "stdout",
     "output_type": "stream",
     "text": [
      "Found header:\n",
      "Date;Runtime[h];Cycle No.;Well;Trigger;Source;Destination;Volume;Mode;Tip\n"
     ]
    }
   ],
   "source": [
    "if pipetting_file == \"yes\":\n",
    "    build_data_file(file_data_pipetting, file_data_pipetting_out)\n",
    "else:\n",
    "    print(\"No pipetting file provided.\")"
   ]
  }
 ],
 "metadata": {
  "kernelspec": {
   "display_name": "Python 3",
   "language": "python",
   "name": "python3"
  },
  "language_info": {
   "codemirror_mode": {
    "name": "ipython",
    "version": 3
   },
   "file_extension": ".py",
   "mimetype": "text/x-python",
   "name": "python",
   "nbconvert_exporter": "python",
   "pygments_lexer": "ipython3",
   "version": "3.8.5"
  }
 },
 "nbformat": 4,
 "nbformat_minor": 4
}
